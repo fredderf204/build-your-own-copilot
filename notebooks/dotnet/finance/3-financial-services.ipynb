{
 "cells": [
  {
   "cell_type": "markdown",
   "metadata": {},
   "source": [
    "# Professional Financial Services Example\n",
    "\n",
    "The professional services industry is a highly educated workforce with relatively low levels of productivity. This makes the industry a prime candidate for GAI transformation. As GAI automates routine and well defined tasks, the highly skilled workforce can spend more time on higher value thinking. With GAI, Australia could build on its reputation for high calibre knowledge workers, particularly in financial and legal \n",
    "sectors.\n",
    "\n",
    "![Sector deep-dive: Professional and Financial Services](https://raw.githubusercontent.com/rohit-lakhanpal/build-your-own-copilot/main/docs/img/professional-and-financial-services.png)\n",
    "\n",
    "References: \n",
    "- [Australia’s Generative AI opportunity Research paper | TechCouncil of Australia](https://techcouncil.com.au/wp-content/uploads/2023/07/230714-Australias-Gen-AI-Opportunity-Final-report-vF4.pdf).\n",
    "- [Combat financial crime with AI and advanced technology from Microsoft](https://www.microsoft.com/en-us/industry/blog/financial-services/2023/06/05/combat-financial-crime-with-ai-and-advanced-technology-from-microsoft/)\n",
    "\n",
    "|  |  |\n",
    "| -: | :- |\n",
    "| Industry | Financial Services |\n",
    "| Usecase  | Financial Services Advising & Exploring. |\n",
    "| WHO | Financial Services Sector |\n",
    "| WHAT | (GAI) for pre-emptive alerting in case of delinquencies, liquidity, market etc. and assist stress-testing through interactive simulations. |\n",
    "| WOW | Assist clients in maintaining their financial well-being, contributing to a more robust and resilient financial ecosystem. |\n",
    "\n"
   ]
  },
  {
   "cell_type": "markdown",
   "metadata": {},
   "source": [
    "## Basic Setup\n",
    "\n",
    "This section hides away the complexity of working with the Kernel. "
   ]
  },
  {
   "cell_type": "code",
   "execution_count": 1,
   "metadata": {
    "dotnet_interactive": {
     "language": "csharp"
    },
    "polyglot_notebook": {
     "kernelName": "csharp"
    },
    "vscode": {
     "languageId": "polyglot-notebook"
    }
   },
   "outputs": [
    {
     "data": {
      "text/html": [
       "<div><div></div><div></div><div><strong>Installed Packages</strong><ul><li><span>dotenv.net, 3.1.2</span></li><li><span>Microsoft.Extensions.Configuration, 8.0.0-rc.1.23419.4</span></li><li><span>Microsoft.Extensions.Configuration.Binder, 8.0.0-rc.1.23419.4</span></li><li><span>Microsoft.Extensions.Configuration.EnvironmentVariables, 8.0.0-rc.1.23419.4</span></li><li><span>Microsoft.Extensions.Configuration.FileExtensions, 8.0.0-rc.1.23419.4</span></li><li><span>Microsoft.Extensions.Configuration.Json, 8.0.0-rc.1.23419.4</span></li><li><span>Microsoft.SemanticKernel, 0.24.230918.1-preview</span></li><li><span>Microsoft.SemanticKernel.Connectors.Memory.AzureCognitiveSearch, 0.24.230918.1-preview</span></li><li><span>Microsoft.SemanticKernel.Skills.Core, 0.24.230918.1-preview</span></li><li><span>Microsoft.SemanticKernel.Skills.Web, 0.24.230918.1-preview</span></li></ul></div></div>"
      ]
     },
     "metadata": {},
     "output_type": "display_data"
    }
   ],
   "source": [
    "//#r \"nuget: dotenv.net, *-*\"\n",
    "#r \"nuget: dotenv.net, 3.1.2\"\n",
    "//#r \"nuget: Microsoft.SemanticKernel, *-*\"\n",
    "#r \"nuget: Microsoft.SemanticKernel, 0.24.230918.1-preview\"\n",
    "//#r \"nuget: Microsoft.SemanticKernel.Connectors.Memory.AzureCognitiveSearch, *-*\"\n",
    "#r \"nuget: Microsoft.SemanticKernel.Connectors.Memory.AzureCognitiveSearch, 0.24.230918.1-preview\"\n",
    "//#r \"nuget: Microsoft.SemanticKernel.Skills.Core, *-*\"\n",
    "#r \"nuget: Microsoft.SemanticKernel.Skills.Core, 0.24.230918.1-preview\"\n",
    "//#r \"nuget: Microsoft.SemanticKernel.Skills.Web, *-*\"\n",
    "#r \"nuget: Microsoft.SemanticKernel.Skills.Web, 0.24.230918.1-preview\"\n",
    "// Configurations\n",
    "#r \"nuget: Microsoft.Extensions.Configuration, *-*\"\n",
    "#r \"nuget: Microsoft.Extensions.Configuration.FileExtensions, *-*\"\n",
    "#r \"nuget: Microsoft.Extensions.Configuration.Json, *-*\"\n",
    "#r \"nuget: Microsoft.Extensions.Configuration.EnvironmentVariables, *-*\" \n",
    "#r \"nuget: Microsoft.Extensions.Configuration.Binder, *-*\""
   ]
  },
  {
   "cell_type": "code",
   "execution_count": 30,
   "metadata": {
    "dotnet_interactive": {
     "language": "csharp"
    },
    "polyglot_notebook": {
     "kernelName": "csharp"
    },
    "vscode": {
     "languageId": "polyglot-notebook"
    }
   },
   "outputs": [
    {
     "data": {
      "text/html": [
       "<details open=\"open\" class=\"dni-treeview\"><summary><span class=\"dni-code-hint\"><code>Microsoft.SemanticKernel.Kernel</code></span></summary><div><table><thead><tr></tr></thead><tbody><tr><td>LoggerFactory</td><td><details class=\"dni-treeview\"><summary><span class=\"dni-code-hint\"><code>Microsoft.Extensions.Logging.Abstractions.NullLoggerFactory</code></span></summary><div><table><thead><tr></tr></thead><tbody></tbody></table></div></details></td></tr><tr><td>Memory</td><td><details class=\"dni-treeview\"><summary><span class=\"dni-code-hint\"><code>Microsoft.SemanticKernel.Memory.SemanticTextMemory</code></span></summary><div><table><thead><tr></tr></thead><tbody></tbody></table></div></details></td></tr><tr><td>Skills</td><td><details class=\"dni-treeview\"><summary><span class=\"dni-code-hint\"><code>Microsoft.SemanticKernel.SkillDefinition.SkillCollection</code></span></summary><div><table><thead><tr></tr></thead><tbody></tbody></table></div></details></td></tr><tr><td>PromptTemplateEngine</td><td><details class=\"dni-treeview\"><summary><span class=\"dni-code-hint\"><code>Microsoft.SemanticKernel.TemplateEngine.Prompt.PromptTemplateEngine</code></span></summary><div><table><thead><tr></tr></thead><tbody></tbody></table></div></details></td></tr><tr><td>HttpHandlerFactory</td><td><details class=\"dni-treeview\"><summary><span class=\"dni-code-hint\"><code>Microsoft.SemanticKernel.Reliability.Basic.BasicHttpRetryHandlerFactory</code></span></summary><div><table><thead><tr></tr></thead><tbody></tbody></table></div></details></td></tr></tbody></table></div></details><style>\r\n",
       ".dni-code-hint {\r\n",
       "    font-style: italic;\r\n",
       "    overflow: hidden;\r\n",
       "    white-space: nowrap;\r\n",
       "}\r\n",
       ".dni-treeview {\r\n",
       "    white-space: nowrap;\r\n",
       "}\r\n",
       ".dni-treeview td {\r\n",
       "    vertical-align: top;\r\n",
       "    text-align: start;\r\n",
       "}\r\n",
       "details.dni-treeview {\r\n",
       "    padding-left: 1em;\r\n",
       "}\r\n",
       "table td {\r\n",
       "    text-align: start;\r\n",
       "}\r\n",
       "table tr { \r\n",
       "    vertical-align: top; \r\n",
       "    margin: 0em 0px;\r\n",
       "}\r\n",
       "table tr td pre \r\n",
       "{ \r\n",
       "    vertical-align: top !important; \r\n",
       "    margin: 0em 0px !important;\r\n",
       "} \r\n",
       "table th {\r\n",
       "    text-align: start;\r\n",
       "}\r\n",
       "</style>"
      ]
     },
     "metadata": {},
     "output_type": "display_data"
    }
   ],
   "source": [
    "#!import ../config/Setup.cs\n",
    "#!import ../config/Utils.cs\n",
    "#!import ../config/KernelHelper.cs\n",
    "\n",
    "var kernel = Setup.LoadKernel();\n",
    "kernel.Display();"
   ]
  },
  {
   "cell_type": "markdown",
   "metadata": {},
   "source": [
    "## Scenario 1 \n",
    "\n",
    "| | |\n",
    "| -: | :- |\n",
    "| Overview | Recommendations based on as-is knowledge. |\n",
    "| Techniques | Role prompting |\n",
    "| Model | GPT 4 Turbo (0613)  |\n",
    "| Weights | TopP:0.7; Temp:0.9  |\n"
   ]
  },
  {
   "cell_type": "code",
   "execution_count": 40,
   "metadata": {
    "dotnet_interactive": {
     "language": "csharp"
    },
    "polyglot_notebook": {
     "kernelName": "csharp"
    },
    "vscode": {
     "languageId": "polyglot-notebook"
    }
   },
   "outputs": [
    {
     "data": {
      "text/html": [
       "<table><thead><tr><th><i>key</i></th><th>value</th></tr></thead><tbody><tr><td><div class=\"dni-plaintext\"><pre>riskTolerance</pre></div></td><td><div class=\"dni-plaintext\"><pre>agressive</pre></div></td></tr><tr><td><div class=\"dni-plaintext\"><pre>INPUT</pre></div></td><td><div class=\"dni-plaintext\"><pre></pre></div></td></tr><tr><td><div class=\"dni-plaintext\"><pre>income</pre></div></td><td><div class=\"dni-plaintext\"><pre>150000</pre></div></td></tr><tr><td><div class=\"dni-plaintext\"><pre>stocks</pre></div></td><td><div class=\"dni-plaintext\"><pre>[{&quot;symbol&quot;:&quot;MSFT&quot;,&quot;allocation&quot;:0.3},{&quot;symbol&quot;:&quot;ACN&quot;,&quot;allocation&quot;:0.1},{&quot;symbol&quot;:&quot;JPM&quot;,&quot;allocation&quot;:0.3},{&quot;symbol&quot;:&quot;PEP&quot;,&quot;allocation&quot;:0.3}]</pre></div></td></tr><tr><td><div class=\"dni-plaintext\"><pre>age</pre></div></td><td><div class=\"dni-plaintext\"><pre>50</pre></div></td></tr></tbody></table><style>\r\n",
       ".dni-code-hint {\r\n",
       "    font-style: italic;\r\n",
       "    overflow: hidden;\r\n",
       "    white-space: nowrap;\r\n",
       "}\r\n",
       ".dni-treeview {\r\n",
       "    white-space: nowrap;\r\n",
       "}\r\n",
       ".dni-treeview td {\r\n",
       "    vertical-align: top;\r\n",
       "    text-align: start;\r\n",
       "}\r\n",
       "details.dni-treeview {\r\n",
       "    padding-left: 1em;\r\n",
       "}\r\n",
       "table td {\r\n",
       "    text-align: start;\r\n",
       "}\r\n",
       "table tr { \r\n",
       "    vertical-align: top; \r\n",
       "    margin: 0em 0px;\r\n",
       "}\r\n",
       "table tr td pre \r\n",
       "{ \r\n",
       "    vertical-align: top !important; \r\n",
       "    margin: 0em 0px !important;\r\n",
       "} \r\n",
       "table th {\r\n",
       "    text-align: start;\r\n",
       "}\r\n",
       "</style>"
      ]
     },
     "metadata": {},
     "output_type": "display_data"
    }
   ],
   "source": [
    "var context = kernel.CreateNewContext();\n",
    "context.Variables[\"stocks\"] = System.Text.Json.JsonSerializer.Serialize(new[] {\n",
    "    new {symbol = \"MSFT\", allocation = 0.3},\n",
    "    new {symbol = \"ACN\", allocation = 0.1},\n",
    "    new {symbol = \"JPM\", allocation = 0.3},\n",
    "    new {symbol = \"PEP\", allocation = 0.3}\n",
    "});\n",
    "context.Variables[\"age\"] = \"50\";\n",
    "context.Variables[\"income\"] = \"150000\";\n",
    "context.Variables[\"riskTolerance\"] = \"agressive\";\n",
    "context.Variables.Display();"
   ]
  },
  {
   "cell_type": "code",
   "execution_count": 4,
   "metadata": {
    "dotnet_interactive": {
     "language": "csharp"
    },
    "polyglot_notebook": {
     "kernelName": "csharp"
    },
    "vscode": {
     "languageId": "polyglot-notebook"
    }
   },
   "outputs": [
    {
     "data": {
      "text/html": [
       "<table><thead><tr><th><i>index</i></th><th>value</th></tr></thead><tbody><tr><td>0</td><td><details class=\"dni-treeview\"><summary><span class=\"dni-code-hint\"><code>Microsoft.SemanticKernel.AI.ChatCompletion.ChatHistory+ChatMessage</code></span></summary><div><table><thead><tr></tr></thead><tbody><tr><td>Role</td><td><details class=\"dni-treeview\"><summary><span class=\"dni-code-hint\"><code>system</code></span></summary><div><table><thead><tr></tr></thead><tbody><tr><td>Label</td><td><div class=\"dni-plaintext\"><pre>system</pre></div></td></tr></tbody></table></div></details></td></tr><tr><td>Content</td><td><div class=\"dni-plaintext\"><pre>&quot;\n",
       "ONLY USE JSON PROPERTIES IN THIS LIST:\n",
       "[JSON PROPERTY LIST]\n",
       "portfolio\n",
       "[END LIST]\n",
       "\n",
       "[CONTENT]\n",
       "[{&quot;symbol&quot;:&quot;MSFT&quot;,&quot;allocation&quot;:0.3},{&quot;symbol&quot;:&quot;ACN&quot;,&quot;allocation&quot;:0.1},{&quot;symbol&quot;:&quot;JPM&quot;,&quot;allocation&quot;:0.3},{&quot;symbol&quot;:&quot;PEP&quot;,&quot;allocation&quot;:0.3}]\n",
       "[END CONTENT]\n",
       "\n",
       "EMIT WELL FORMED JSON ALWAYS.\n",
       "BE BRIEF AND TO THE POINT.\n",
       "&quot;</pre></div></td></tr></tbody></table></div></details></td></tr><tr><td>1</td><td><details class=\"dni-treeview\"><summary><span class=\"dni-code-hint\"><code>Microsoft.SemanticKernel.AI.ChatCompletion.ChatHistory+ChatMessage</code></span></summary><div><table><thead><tr></tr></thead><tbody><tr><td>Role</td><td><details class=\"dni-treeview\"><summary><span class=\"dni-code-hint\"><code>user</code></span></summary><div><table><thead><tr></tr></thead><tbody><tr><td>Label</td><td><div class=\"dni-plaintext\"><pre>user</pre></div></td></tr></tbody></table></div></details></td></tr><tr><td>Content</td><td><div class=\"dni-plaintext\"><pre>&quot;\n",
       "Act as a financial advisor and provide advice based on the given portfolio allocation and user information such as a age, income, and risk.  \n",
       "For someone who is 50 years old, with 150000 as household income, and with a risk tolerance of agressive, what is a ideal advice on the given portfolio allocation?  \n",
       "Your advice should be one of the following outputs: &quot;Buy&quot;, &quot;Sell&quot;, or &quot;Hold&quot; as show in the example below.  \n",
       "Return well-formed JSON with an &quot;gptRecommendation&quot; property containing your recommendation.  \n",
       "Example: {&quot;portfolio&quot;:[{&quot;name&quot;:&quot;Stocks&quot;,&quot;gptRecommendation&quot;:&quot;&quot;},{&quot;name&quot;:&quot;Bonds&quot;,&quot;gptRecommendation&quot;:&quot;&quot;},{&quot;name&quot;:&quot;Cash&quot;,&quot;gptRecommendation&quot;:&quot;&quot;},{&quot;name&quot;:&quot;Home Equity&quot;,&quot;gptRecommendation&quot;:&quot;&quot;}]}  \n",
       "&quot;</pre></div></td></tr></tbody></table></div></details></td></tr><tr><td>2</td><td><details class=\"dni-treeview\"><summary><span class=\"dni-code-hint\"><code>Microsoft.SemanticKernel.AI.ChatCompletion.ChatHistory+ChatMessage</code></span></summary><div><table><thead><tr></tr></thead><tbody><tr><td>Role</td><td><details class=\"dni-treeview\"><summary><span class=\"dni-code-hint\"><code>assistant</code></span></summary><div><table><thead><tr></tr></thead><tbody><tr><td>Label</td><td><div class=\"dni-plaintext\"><pre>assistant</pre></div></td></tr></tbody></table></div></details></td></tr><tr><td>Content</td><td><div class=\"dni-plaintext\"><pre>{&quot;portfolio&quot;:[{&quot;symbol&quot;:&quot;MSFT&quot;,&quot;gptRecommendation&quot;:&quot;Hold&quot;},{&quot;symbol&quot;:&quot;ACN&quot;,&quot;gptRecommendation&quot;:&quot;Buy&quot;},{&quot;symbol&quot;:&quot;JPM&quot;,&quot;gptRecommendation&quot;:&quot;Buy&quot;},{&quot;symbol&quot;:&quot;PEP&quot;,&quot;gptRecommendation&quot;:&quot;Hold&quot;}]}</pre></div></td></tr></tbody></table></div></details></td></tr></tbody></table><style>\r\n",
       ".dni-code-hint {\r\n",
       "    font-style: italic;\r\n",
       "    overflow: hidden;\r\n",
       "    white-space: nowrap;\r\n",
       "}\r\n",
       ".dni-treeview {\r\n",
       "    white-space: nowrap;\r\n",
       "}\r\n",
       ".dni-treeview td {\r\n",
       "    vertical-align: top;\r\n",
       "    text-align: start;\r\n",
       "}\r\n",
       "details.dni-treeview {\r\n",
       "    padding-left: 1em;\r\n",
       "}\r\n",
       "table td {\r\n",
       "    text-align: start;\r\n",
       "}\r\n",
       "table tr { \r\n",
       "    vertical-align: top; \r\n",
       "    margin: 0em 0px;\r\n",
       "}\r\n",
       "table tr td pre \r\n",
       "{ \r\n",
       "    vertical-align: top !important; \r\n",
       "    margin: 0em 0px !important;\r\n",
       "} \r\n",
       "table th {\r\n",
       "    text-align: start;\r\n",
       "}\r\n",
       "</style>"
      ]
     },
     "metadata": {},
     "output_type": "display_data"
    }
   ],
   "source": [
    "using System.Text.Json;\n",
    "ChatHistory chatHistory;\n",
    "\n",
    "string systemMessage = @\"\"\"\n",
    "ONLY USE JSON PROPERTIES IN THIS LIST:\n",
    "[JSON PROPERTY LIST]\n",
    "portfolio\n",
    "[END LIST]\n",
    "\n",
    "[CONTENT]\n",
    "{{$stocks}}\n",
    "[END CONTENT]\n",
    "\n",
    "EMIT WELL FORMED JSON ALWAYS.\n",
    "BE BRIEF AND TO THE POINT.\n",
    "\"\"\";\n",
    "\n",
    "string userMessage = @\"\"\"\n",
    "Act as a financial advisor and provide advice based on the given portfolio allocation and user information such as a age, income, and risk.  \n",
    "For someone who is {{$age}} years old, with {{$income}} as household income, and with a risk tolerance of {{$riskTolerance}}, what is a ideal advice on the given portfolio allocation?  \n",
    "Your advice should be one of the following outputs: \"\"Buy\"\", \"\"Sell\"\", or \"\"Hold\"\" as show in the example below.  \n",
    "Return well-formed JSON with an \"\"gptRecommendation\"\" property containing your recommendation.  \n",
    "Example: {\"\"portfolio\"\":[{\"\"name\"\":\"\"Stocks\"\",\"\"gptRecommendation\"\":\"\"\"\"},{\"\"name\"\":\"\"Bonds\"\",\"\"gptRecommendation\"\":\"\"\"\"},{\"\"name\"\":\"\"Cash\"\",\"\"gptRecommendation\"\":\"\"\"\"},{\"\"name\"\":\"\"Home Equity\"\",\"\"gptRecommendation\"\":\"\"\"\"}]}  \n",
    "\"\"\";\n",
    "\n",
    "(await KernelHelper.ProcessAsync(kernel, systemMessage, userMessage, context)).Display();"
   ]
  },
  {
   "cell_type": "markdown",
   "metadata": {},
   "source": [
    "## Scenario 2\n",
    "\n",
    "\n",
    "| | |\n",
    "| -: | :- |\n",
    "| Overview | Recommendations based on updated knowledge. |\n",
    "| Techniques | Role prompting, Update Context Window |\n",
    "| Model | GPT 4 Turbo (0613)  |\n",
    "| Weights | TopP:0.7; Temp:0.9  |\n"
   ]
  },
  {
   "cell_type": "markdown",
   "metadata": {},
   "source": [
    "Get updated US inflation data."
   ]
  },
  {
   "cell_type": "code",
   "execution_count": 41,
   "metadata": {
    "dotnet_interactive": {
     "language": "csharp"
    },
    "polyglot_notebook": {
     "kernelName": "csharp"
    },
    "vscode": {
     "languageId": "polyglot-notebook"
    }
   },
   "outputs": [
    {
     "name": "stdout",
     "output_type": "stream",
     "text": [
      "The annual inflation rate in the United States increased to 3.7% for the 12\n",
      "months ending in August 2023, according to data from the U.S. Labor Department.\n",
      "This is an acceleration from the 3.2% rise in the previous period and is above\n",
      "market forecasts of 3.6%. The Consumer Price Index for All Urban Consumers rose\n",
      "0.6% in August, and 3.7% over the last 12 months. When excluding food and energy,\n",
      "the index increased 0.3% in August and 4.3% over the year. Despite the rise in\n",
      "inflation, the Federal Reserve held interest rates steady, indicating one more\n",
      "hike before the end of the year. Meanwhile, US inflation expectations fell in\n",
      "early September to the lowest levels in more than two years as consumers grew\n",
      "more optimistic about the economic outlook.\n",
      "\n"
     ]
    },
    {
     "data": {
      "text/html": [
       "<table><thead><tr><th><i>key</i></th><th>value</th></tr></thead><tbody><tr><td><div class=\"dni-plaintext\"><pre>inflationSummary</pre></div></td><td><div class=\"dni-plaintext\"><pre>The annual inflation rate in the United States increased to 3.7% for the 12 months ending in August 2023, according to data from the U.S. Labor Department. This is an acceleration from the 3.2% rise in the previous period and is above market forecasts of 3.6%. The Consumer Price Index for All Urban Consumers rose 0.6% in August, and 3.7% over the last 12 months. When excluding food and energy, the index increased 0.3% in August and 4.3% over the year. Despite the rise in inflation, the Federal Reserve held interest rates steady, indicating one more hike before the end of the year. Meanwhile, US inflation expectations fell in early September to the lowest levels in more than two years as consumers grew more optimistic about the economic outlook.\n",
       "</pre></div></td></tr><tr><td><div class=\"dni-plaintext\"><pre>riskTolerance</pre></div></td><td><div class=\"dni-plaintext\"><pre>agressive</pre></div></td></tr><tr><td><div class=\"dni-plaintext\"><pre>INPUT</pre></div></td><td><div class=\"dni-plaintext\"><pre></pre></div></td></tr><tr><td><div class=\"dni-plaintext\"><pre>income</pre></div></td><td><div class=\"dni-plaintext\"><pre>150000</pre></div></td></tr><tr><td><div class=\"dni-plaintext\"><pre>stocks</pre></div></td><td><div class=\"dni-plaintext\"><pre>[{&quot;symbol&quot;:&quot;MSFT&quot;,&quot;allocation&quot;:0.3},{&quot;symbol&quot;:&quot;ACN&quot;,&quot;allocation&quot;:0.1},{&quot;symbol&quot;:&quot;JPM&quot;,&quot;allocation&quot;:0.3},{&quot;symbol&quot;:&quot;PEP&quot;,&quot;allocation&quot;:0.3}]</pre></div></td></tr><tr><td><div class=\"dni-plaintext\"><pre>age</pre></div></td><td><div class=\"dni-plaintext\"><pre>50</pre></div></td></tr></tbody></table><style>\r\n",
       ".dni-code-hint {\r\n",
       "    font-style: italic;\r\n",
       "    overflow: hidden;\r\n",
       "    white-space: nowrap;\r\n",
       "}\r\n",
       ".dni-treeview {\r\n",
       "    white-space: nowrap;\r\n",
       "}\r\n",
       ".dni-treeview td {\r\n",
       "    vertical-align: top;\r\n",
       "    text-align: start;\r\n",
       "}\r\n",
       "details.dni-treeview {\r\n",
       "    padding-left: 1em;\r\n",
       "}\r\n",
       "table td {\r\n",
       "    text-align: start;\r\n",
       "}\r\n",
       "table tr { \r\n",
       "    vertical-align: top; \r\n",
       "    margin: 0em 0px;\r\n",
       "}\r\n",
       "table tr td pre \r\n",
       "{ \r\n",
       "    vertical-align: top !important; \r\n",
       "    margin: 0em 0px !important;\r\n",
       "} \r\n",
       "table th {\r\n",
       "    text-align: start;\r\n",
       "}\r\n",
       "</style>"
      ]
     },
     "metadata": {},
     "output_type": "display_data"
    }
   ],
   "source": [
    "var webQuery = \"What is the inflation rate in the US in September 2023?\";\n",
    "\n",
    "var inflationData = await kernel.Func(\"bing\", \"search\").InvokeAsync(webQuery);\n",
    "//Utils.Print(inflationData.Result);\n",
    "\n",
    "var inflationSummary  = await kernel.Func(\"conversation\", \"SummarizeConversation\").InvokeAsync(inflationData);\n",
    "Utils.Print(inflationSummary.Result);\n",
    "\n",
    "// var inflationTopics  = await kernel.Func(\"conversation\", \"GetConversationTopics\").InvokeAsync(inflationData);\n",
    "// Console.WriteLine(inflationTopics.Result);\n",
    "\n",
    "// var inflationActionItems  = await kernel.Func(\"conversation\", \"GetConversationActionItems\").InvokeAsync(inflationData);\n",
    "// Utils.Print(inflationActionItems.Result);\n",
    "\n",
    "context.Variables[\"inflationSummary\"] = inflationSummary.Result;\n",
    "context.Variables.Display();"
   ]
  },
  {
   "cell_type": "code",
   "execution_count": 6,
   "metadata": {
    "dotnet_interactive": {
     "language": "csharp"
    },
    "polyglot_notebook": {
     "kernelName": "csharp"
    },
    "vscode": {
     "languageId": "polyglot-notebook"
    }
   },
   "outputs": [
    {
     "data": {
      "text/html": [
       "<table><thead><tr><th><i>index</i></th><th>value</th></tr></thead><tbody><tr><td>0</td><td><details class=\"dni-treeview\"><summary><span class=\"dni-code-hint\"><code>Microsoft.SemanticKernel.AI.ChatCompletion.ChatHistory+ChatMessage</code></span></summary><div><table><thead><tr></tr></thead><tbody><tr><td>Role</td><td><details class=\"dni-treeview\"><summary><span class=\"dni-code-hint\"><code>system</code></span></summary><div><table><thead><tr></tr></thead><tbody><tr><td>Label</td><td><div class=\"dni-plaintext\"><pre>system</pre></div></td></tr></tbody></table></div></details></td></tr><tr><td>Content</td><td><div class=\"dni-plaintext\"><pre>&quot;\n",
       "ONLY USE JSON PROPERTIES IN THIS LIST:\n",
       "[JSON PROPERTY LIST]\n",
       "portfolio\n",
       "[END LIST]\n",
       "\n",
       "[CONTENT]\n",
       "[{&quot;symbol&quot;:&quot;MSFT&quot;,&quot;allocation&quot;:0.3},{&quot;symbol&quot;:&quot;ACN&quot;,&quot;allocation&quot;:0.1},{&quot;symbol&quot;:&quot;JPM&quot;,&quot;allocation&quot;:0.3},{&quot;symbol&quot;:&quot;PEP&quot;,&quot;allocation&quot;:0.3}]\n",
       "[END CONTENT]\n",
       "\n",
       "EMIT WELL FORMED JSON ALWAYS.\n",
       "BE BRIEF AND TO THE POINT.\n",
       "&quot;</pre></div></td></tr></tbody></table></div></details></td></tr><tr><td>1</td><td><details class=\"dni-treeview\"><summary><span class=\"dni-code-hint\"><code>Microsoft.SemanticKernel.AI.ChatCompletion.ChatHistory+ChatMessage</code></span></summary><div><table><thead><tr></tr></thead><tbody><tr><td>Role</td><td><details class=\"dni-treeview\"><summary><span class=\"dni-code-hint\"><code>user</code></span></summary><div><table><thead><tr></tr></thead><tbody><tr><td>Label</td><td><div class=\"dni-plaintext\"><pre>user</pre></div></td></tr></tbody></table></div></details></td></tr><tr><td>Content</td><td><div class=\"dni-plaintext\"><pre>&quot;\n",
       "Act as a financial advisor and provide advice based on the given portfolio allocation and user information such as a age, income, and risk.  \n",
       "For someone who is 50 years old, with 150000 as household income, and with a risk tolerance of agressive, what is a ideal advice on the given portfolio allocation?  \n",
       "Your advice should be one of the following outputs: &quot;Buy&quot;, &quot;Sell&quot;, or &quot;Hold&quot; as show in the example below.  \n",
       "Return well-formed JSON with an &quot;gptRecommendation&quot; property containing your recommendation.  \n",
       "Example: {&quot;portfolio&quot;:[{&quot;name&quot;:&quot;Stocks&quot;,&quot;gptRecommendation&quot;:&quot;&quot;},{&quot;name&quot;:&quot;Bonds&quot;,&quot;gptRecommendation&quot;:&quot;&quot;},{&quot;name&quot;:&quot;Cash&quot;,&quot;gptRecommendation&quot;:&quot;&quot;},{&quot;name&quot;:&quot;Home Equity&quot;,&quot;gptRecommendation&quot;:&quot;&quot;}]}  \n",
       "\n",
       "[INFLATION SUMMARY]\n",
       "The annual inflation rate in the United States increased to 3.7% for the 12 months ending in August 2023, according to data from the U.S. Labor Department. This was an acceleration from the 3.2% inflation rate reported for the previous period and was slightly above market forecasts of 3.6%. The Consumer Price Index for the United States was 307.026 for August 2023, with inflation from July 2023 to August 2023 being 0.437%. Despite the rising inflation, the Federal Reserve decided to hold interest rates steady, but indicated the possibility of one more hike before the end of the year. The rise in inflation was considered explainable and did not cause undue concern. However, worries about persistent inflation and potential interest-rate hikes by the Fed contributed to significant losses in the stock market in September 2023, with the S&amp;P 500 falling 5% and the Nasdaq dropping 6%.\n",
       "\n",
       "[END INFLATION SUMMARY]\n",
       "&quot;</pre></div></td></tr></tbody></table></div></details></td></tr><tr><td>2</td><td><details class=\"dni-treeview\"><summary><span class=\"dni-code-hint\"><code>Microsoft.SemanticKernel.AI.ChatCompletion.ChatHistory+ChatMessage</code></span></summary><div><table><thead><tr></tr></thead><tbody><tr><td>Role</td><td><details class=\"dni-treeview\"><summary><span class=\"dni-code-hint\"><code>assistant</code></span></summary><div><table><thead><tr></tr></thead><tbody><tr><td>Label</td><td><div class=\"dni-plaintext\"><pre>assistant</pre></div></td></tr></tbody></table></div></details></td></tr><tr><td>Content</td><td><div class=\"dni-plaintext\"><pre>{&quot;portfolio&quot;:[{&quot;symbol&quot;:&quot;MSFT&quot;,&quot;gptRecommendation&quot;:&quot;Hold&quot;},{&quot;symbol&quot;:&quot;ACN&quot;,&quot;gptRecommendation&quot;:&quot;Sell&quot;},{&quot;symbol&quot;:&quot;JPM&quot;,&quot;gptRecommendation&quot;:&quot;Buy&quot;},{&quot;symbol&quot;:&quot;PEP&quot;,&quot;gptRecommendation&quot;:&quot;Buy&quot;}]}</pre></div></td></tr></tbody></table></div></details></td></tr></tbody></table><style>\r\n",
       ".dni-code-hint {\r\n",
       "    font-style: italic;\r\n",
       "    overflow: hidden;\r\n",
       "    white-space: nowrap;\r\n",
       "}\r\n",
       ".dni-treeview {\r\n",
       "    white-space: nowrap;\r\n",
       "}\r\n",
       ".dni-treeview td {\r\n",
       "    vertical-align: top;\r\n",
       "    text-align: start;\r\n",
       "}\r\n",
       "details.dni-treeview {\r\n",
       "    padding-left: 1em;\r\n",
       "}\r\n",
       "table td {\r\n",
       "    text-align: start;\r\n",
       "}\r\n",
       "table tr { \r\n",
       "    vertical-align: top; \r\n",
       "    margin: 0em 0px;\r\n",
       "}\r\n",
       "table tr td pre \r\n",
       "{ \r\n",
       "    vertical-align: top !important; \r\n",
       "    margin: 0em 0px !important;\r\n",
       "} \r\n",
       "table th {\r\n",
       "    text-align: start;\r\n",
       "}\r\n",
       "</style>"
      ]
     },
     "metadata": {},
     "output_type": "display_data"
    }
   ],
   "source": [
    "using System.Text.Json;\n",
    "ChatHistory chatHistory;\n",
    "\n",
    "string systemMessage = @\"\"\"\n",
    "ONLY USE JSON PROPERTIES IN THIS LIST:\n",
    "[JSON PROPERTY LIST]\n",
    "portfolio\n",
    "[END LIST]\n",
    "\n",
    "[CONTENT]\n",
    "{{$stocks}}\n",
    "[END CONTENT]\n",
    "\n",
    "EMIT WELL FORMED JSON ALWAYS.\n",
    "BE BRIEF AND TO THE POINT.\n",
    "\"\"\";\n",
    "\n",
    "string userMessage = @\"\"\"\n",
    "Act as a financial advisor and provide advice based on the given portfolio allocation and user information such as a age, income, and risk.  \n",
    "For someone who is {{$age}} years old, with {{$income}} as household income, and with a risk tolerance of {{$riskTolerance}}, what is a ideal advice on the given portfolio allocation?  \n",
    "Your advice should be one of the following outputs: \"\"Buy\"\", \"\"Sell\"\", or \"\"Hold\"\" as show in the example below.  \n",
    "Return well-formed JSON with an \"\"gptRecommendation\"\" property containing your recommendation.  \n",
    "Example: {\"\"portfolio\"\":[{\"\"name\"\":\"\"Stocks\"\",\"\"gptRecommendation\"\":\"\"\"\"},{\"\"name\"\":\"\"Bonds\"\",\"\"gptRecommendation\"\":\"\"\"\"},{\"\"name\"\":\"\"Cash\"\",\"\"gptRecommendation\"\":\"\"\"\"},{\"\"name\"\":\"\"Home Equity\"\",\"\"gptRecommendation\"\":\"\"\"\"}]}  \n",
    "\n",
    "[INFLATION SUMMARY]\n",
    "{{$inflationSummary}}\n",
    "[END INFLATION SUMMARY]\n",
    "\"\"\";\n",
    "\n",
    "(await KernelHelper.ProcessAsync(kernel, systemMessage, userMessage, context)).Display();"
   ]
  },
  {
   "cell_type": "markdown",
   "metadata": {},
   "source": [
    "## Scenario 3\n",
    "\n",
    "\n",
    "| | |\n",
    "| -: | :- |\n",
    "| Overview | Recommendations based on updated knowledge. |\n",
    "| Techniques | Role prompting, Update Context Window, RAG |\n",
    "| Model | GPT 4 Turbo (0613)  |\n",
    "| Weights | TopP:0.7; Temp:0.9  |"
   ]
  },
  {
   "cell_type": "markdown",
   "metadata": {},
   "source": [
    "### 3.1. Prepare Lookup Data-Set"
   ]
  },
  {
   "cell_type": "code",
   "execution_count": 22,
   "metadata": {
    "dotnet_interactive": {
     "language": "csharp"
    },
    "polyglot_notebook": {
     "kernelName": "csharp"
    },
    "vscode": {
     "languageId": "polyglot-notebook"
    }
   },
   "outputs": [
    {
     "name": "stdout",
     "output_type": "stream",
     "text": [
      "Chunks: 46\n",
      "Chunk 0 of 46 saved to memory collection intelligent-investor-book\n",
      "Chunk 1 of 46 saved to memory collection intelligent-investor-book\n",
      "Chunk 2 of 46 saved to memory collection intelligent-investor-book\n",
      "Chunk 3 of 46 saved to memory collection intelligent-investor-book\n",
      "Chunk 4 of 46 saved to memory collection intelligent-investor-book\n",
      "Chunk 5 of 46 saved to memory collection intelligent-investor-book\n",
      "Chunk 6 of 46 saved to memory collection intelligent-investor-book\n",
      "Chunk 7 of 46 saved to memory collection intelligent-investor-book\n",
      "Chunk 8 of 46 saved to memory collection intelligent-investor-book\n",
      "Chunk 9 of 46 saved to memory collection intelligent-investor-book\n",
      "Chunk 10 of 46 saved to memory collection intelligent-investor-book\n",
      "Chunk 11 of 46 saved to memory collection intelligent-investor-book\n",
      "Chunk 12 of 46 saved to memory collection intelligent-investor-book\n",
      "Chunk 13 of 46 saved to memory collection intelligent-investor-book\n",
      "Chunk 14 of 46 saved to memory collection intelligent-investor-book\n",
      "Chunk 15 of 46 saved to memory collection intelligent-investor-book\n",
      "Chunk 16 of 46 saved to memory collection intelligent-investor-book\n",
      "Chunk 17 of 46 saved to memory collection intelligent-investor-book\n",
      "Chunk 18 of 46 saved to memory collection intelligent-investor-book\n",
      "Chunk 19 of 46 saved to memory collection intelligent-investor-book\n",
      "Chunk 20 of 46 saved to memory collection intelligent-investor-book\n",
      "Chunk 21 of 46 saved to memory collection intelligent-investor-book\n",
      "Chunk 22 of 46 saved to memory collection intelligent-investor-book\n",
      "Chunk 23 of 46 saved to memory collection intelligent-investor-book\n",
      "Chunk 24 of 46 saved to memory collection intelligent-investor-book\n",
      "Chunk 25 of 46 saved to memory collection intelligent-investor-book\n",
      "Chunk 26 of 46 saved to memory collection intelligent-investor-book\n",
      "Chunk 27 of 46 saved to memory collection intelligent-investor-book\n",
      "Chunk 28 of 46 saved to memory collection intelligent-investor-book\n",
      "Chunk 29 of 46 saved to memory collection intelligent-investor-book\n",
      "Chunk 30 of 46 saved to memory collection intelligent-investor-book\n",
      "Chunk 31 of 46 saved to memory collection intelligent-investor-book\n",
      "Chunk 32 of 46 saved to memory collection intelligent-investor-book\n",
      "Chunk 33 of 46 saved to memory collection intelligent-investor-book\n",
      "Chunk 34 of 46 saved to memory collection intelligent-investor-book\n",
      "Chunk 35 of 46 saved to memory collection intelligent-investor-book\n",
      "Chunk 36 of 46 saved to memory collection intelligent-investor-book\n",
      "Chunk 37 of 46 saved to memory collection intelligent-investor-book\n",
      "Chunk 38 of 46 saved to memory collection intelligent-investor-book\n",
      "Chunk 39 of 46 saved to memory collection intelligent-investor-book\n",
      "Chunk 40 of 46 saved to memory collection intelligent-investor-book\n",
      "Chunk 41 of 46 saved to memory collection intelligent-investor-book\n",
      "Chunk 42 of 46 saved to memory collection intelligent-investor-book\n",
      "Chunk 43 of 46 saved to memory collection intelligent-investor-book\n",
      "Chunk 44 of 46 saved to memory collection intelligent-investor-book\n",
      "Chunk 45 of 46 saved to memory collection intelligent-investor-book\n"
     ]
    }
   ],
   "source": [
    "await KernelHelper.PrepareDatabaseAsync(kernel, \n",
    "        \"../../../data/intelligent-investor.txt\", \"intelligent-investor-book\")"
   ]
  },
  {
   "cell_type": "code",
   "execution_count": 37,
   "metadata": {
    "dotnet_interactive": {
     "language": "csharp"
    },
    "polyglot_notebook": {
     "kernelName": "csharp"
    },
    "vscode": {
     "languageId": "polyglot-notebook"
    }
   },
   "outputs": [
    {
     "data": {
      "text/html": [
       "<table><thead><tr><th><i>index</i></th><th>value</th></tr></thead><tbody><tr><td>0</td><td><details class=\"dni-treeview\"><summary><span class=\"dni-code-hint\"><code>Microsoft.SemanticKernel.Memory.MemoryRecordMetadata</code></span></summary><div><table><thead><tr></tr></thead><tbody><tr><td>IsReference</td><td><div class=\"dni-plaintext\"><pre>False</pre></div></td></tr><tr><td>ExternalSourceName</td><td><div class=\"dni-plaintext\"><pre></pre></div></td></tr><tr><td>Id</td><td><div class=\"dni-plaintext\"><pre>intelligent-investor-book-26</pre></div></td></tr><tr><td>Description</td><td><div class=\"dni-plaintext\"><pre>Dataset: intelligent-investor-book Chunk: 26</pre></div></td></tr><tr><td>Text</td><td><div class=\"dni-plaintext\"><pre>Projection is dangerous because the future is uncertain, and inflation, economic recessions, pandemics and geopolitical upheavals often arrive without warning.\n",
       "Graham argues that it is a fool&#39;s errand for an ordinary investor to attempt making money by timing the market.\n",
       "Graham advocates for a protection-based approach that does not try to time the market.\n",
       "Value investors should identify and invest in large, conservatively financed companies whose present value (as estimated by tangible assets) is substantially below their current stock prices.</pre></div></td></tr><tr><td>AdditionalMetadata</td><td><div class=\"dni-plaintext\"><pre>26</pre></div></td></tr></tbody></table></div></details></td></tr><tr><td>1</td><td><details class=\"dni-treeview\"><summary><span class=\"dni-code-hint\"><code>Microsoft.SemanticKernel.Memory.MemoryRecordMetadata</code></span></summary><div><table><thead><tr></tr></thead><tbody><tr><td>IsReference</td><td><div class=\"dni-plaintext\"><pre>False</pre></div></td></tr><tr><td>ExternalSourceName</td><td><div class=\"dni-plaintext\"><pre></pre></div></td></tr><tr><td>Id</td><td><div class=\"dni-plaintext\"><pre>intelligent-investor-book-1</pre></div></td></tr><tr><td>Description</td><td><div class=\"dni-plaintext\"><pre>Dataset: intelligent-investor-book Chunk: 1</pre></div></td></tr><tr><td>Text</td><td><div class=\"dni-plaintext\"><pre>The Intelligent Investor by Benjamin Graham gives you everything you need to equip yourself with the investor&#39;s mindset necessary to avoid the panic of market fluctuations that plague the ordinary investor. Don&#39;t be ordinary. Be intelligent.\n",
       "TOP 20 INSIGHTS\n",
       "There are two kinds of investors. Defensive investors aim to protect their capital from losses, generate decent returns and minimize frequent decisions.\n",
       "Enterprising investors devote most of their time to manage their portfolios actively. An enterprising investor does not take more risks than a defensive investor but invests more in stock selection.</pre></div></td></tr><tr><td>AdditionalMetadata</td><td><div class=\"dni-plaintext\"><pre>1</pre></div></td></tr></tbody></table></div></details></td></tr></tbody></table><style>\r\n",
       ".dni-code-hint {\r\n",
       "    font-style: italic;\r\n",
       "    overflow: hidden;\r\n",
       "    white-space: nowrap;\r\n",
       "}\r\n",
       ".dni-treeview {\r\n",
       "    white-space: nowrap;\r\n",
       "}\r\n",
       ".dni-treeview td {\r\n",
       "    vertical-align: top;\r\n",
       "    text-align: start;\r\n",
       "}\r\n",
       "details.dni-treeview {\r\n",
       "    padding-left: 1em;\r\n",
       "}\r\n",
       "table td {\r\n",
       "    text-align: start;\r\n",
       "}\r\n",
       "table tr { \r\n",
       "    vertical-align: top; \r\n",
       "    margin: 0em 0px;\r\n",
       "}\r\n",
       "table tr td pre \r\n",
       "{ \r\n",
       "    vertical-align: top !important; \r\n",
       "    margin: 0em 0px !important;\r\n",
       "} \r\n",
       "table th {\r\n",
       "    text-align: start;\r\n",
       "}\r\n",
       "</style>"
      ]
     },
     "metadata": {},
     "output_type": "display_data"
    },
    {
     "name": "stdout",
     "output_type": "stream",
     "text": [
      "Ben Graham's investment philosophy emphasizes the dangers of projection due to\n",
      "the uncertainty of the future, including unpredictable events like inflation,\n",
      "economic recessions, pandemics, and geopolitical upheavals. He discourages\n",
      "ordinary investors from trying to time the market, considering it a fool's\n",
      "errand. Instead, Graham advocates for a protection-based approach that focuses\n",
      "on investing in large, conservatively financed companies whose present value,\n",
      "estimated by tangible assets, is significantly below their current stock prices.\n",
      "His book, \"The Intelligent Investor,\" aims to equip readers with the mindset to\n",
      "avoid the panic of market fluctuations. Graham also distinguishes between two\n",
      "types of investors: defensive investors, who aim to protect their capital,\n",
      "generate decent returns, and minimize frequent decisions, and enterprising\n",
      "investors, who actively manage their portfolios, investing more time in stock\n",
      "selection without necessarily taking on more risk.\n",
      "\n"
     ]
    }
   ],
   "source": [
    "string vectorSearchQ = \"Ben Graham's investment philosophy?\";\n",
    "\n",
    "var vectorResults = await KernelHelper.SearchDatabaseAsync(kernel, \n",
    "    \"intelligent-investor-book\", vectorSearchQ, 2);\n",
    "vectorResults.ForEach(r => vectorSearchQ += $\"\\n\\n{r.Text}\");\n",
    "vectorResults.Display();\n",
    "var investmentAdvice = (await kernel.Func(\"conversation\", \"SummarizeConversation\").InvokeAsync(vectorSearchQ)).Result;\n",
    "Utils.Print(investmentAdvice);"
   ]
  },
  {
   "cell_type": "code",
   "execution_count": 42,
   "metadata": {
    "dotnet_interactive": {
     "language": "csharp"
    },
    "polyglot_notebook": {
     "kernelName": "csharp"
    },
    "vscode": {
     "languageId": "polyglot-notebook"
    }
   },
   "outputs": [
    {
     "data": {
      "text/html": [
       "<table><thead><tr><th><i>key</i></th><th>value</th></tr></thead><tbody><tr><td><div class=\"dni-plaintext\"><pre>inflationSummary</pre></div></td><td><div class=\"dni-plaintext\"><pre>The annual inflation rate in the United States increased to 3.7% for the 12 months ending in August 2023, according to data from the U.S. Labor Department. This is an acceleration from the 3.2% rise in the previous period and is above market forecasts of 3.6%. The Consumer Price Index for All Urban Consumers rose 0.6% in August, and 3.7% over the last 12 months. When excluding food and energy, the index increased 0.3% in August and 4.3% over the year. Despite the rise in inflation, the Federal Reserve held interest rates steady, indicating one more hike before the end of the year. Meanwhile, US inflation expectations fell in early September to the lowest levels in more than two years as consumers grew more optimistic about the economic outlook.\n",
       "</pre></div></td></tr><tr><td><div class=\"dni-plaintext\"><pre>riskTolerance</pre></div></td><td><div class=\"dni-plaintext\"><pre>agressive</pre></div></td></tr><tr><td><div class=\"dni-plaintext\"><pre>INPUT</pre></div></td><td><div class=\"dni-plaintext\"><pre></pre></div></td></tr><tr><td><div class=\"dni-plaintext\"><pre>income</pre></div></td><td><div class=\"dni-plaintext\"><pre>150000</pre></div></td></tr><tr><td><div class=\"dni-plaintext\"><pre>stocks</pre></div></td><td><div class=\"dni-plaintext\"><pre>[{&quot;symbol&quot;:&quot;MSFT&quot;,&quot;allocation&quot;:0.3},{&quot;symbol&quot;:&quot;ACN&quot;,&quot;allocation&quot;:0.1},{&quot;symbol&quot;:&quot;JPM&quot;,&quot;allocation&quot;:0.3},{&quot;symbol&quot;:&quot;PEP&quot;,&quot;allocation&quot;:0.3}]</pre></div></td></tr><tr><td><div class=\"dni-plaintext\"><pre>age</pre></div></td><td><div class=\"dni-plaintext\"><pre>50</pre></div></td></tr><tr><td><div class=\"dni-plaintext\"><pre>investmentAdvice</pre></div></td><td><div class=\"dni-plaintext\"><pre>Ben Graham&#39;s investment philosophy emphasizes the dangers of projection due to the uncertainty of the future, including unpredictable events like inflation, economic recessions, pandemics, and geopolitical upheavals. He discourages ordinary investors from trying to time the market, considering it a fool&#39;s errand. Instead, Graham advocates for a protection-based approach that focuses on investing in large, conservatively financed companies whose present value, estimated by tangible assets, is significantly below their current stock prices. His book, &quot;The Intelligent Investor,&quot; aims to equip readers with the mindset to avoid the panic of market fluctuations. Graham also distinguishes between two types of investors: defensive investors, who aim to protect their capital, generate decent returns, and minimize frequent decisions, and enterprising investors, who actively manage their portfolios, investing more time in stock selection without necessarily taking on more risk.</pre></div></td></tr></tbody></table><style>\r\n",
       ".dni-code-hint {\r\n",
       "    font-style: italic;\r\n",
       "    overflow: hidden;\r\n",
       "    white-space: nowrap;\r\n",
       "}\r\n",
       ".dni-treeview {\r\n",
       "    white-space: nowrap;\r\n",
       "}\r\n",
       ".dni-treeview td {\r\n",
       "    vertical-align: top;\r\n",
       "    text-align: start;\r\n",
       "}\r\n",
       "details.dni-treeview {\r\n",
       "    padding-left: 1em;\r\n",
       "}\r\n",
       "table td {\r\n",
       "    text-align: start;\r\n",
       "}\r\n",
       "table tr { \r\n",
       "    vertical-align: top; \r\n",
       "    margin: 0em 0px;\r\n",
       "}\r\n",
       "table tr td pre \r\n",
       "{ \r\n",
       "    vertical-align: top !important; \r\n",
       "    margin: 0em 0px !important;\r\n",
       "} \r\n",
       "table th {\r\n",
       "    text-align: start;\r\n",
       "}\r\n",
       "</style>"
      ]
     },
     "metadata": {},
     "output_type": "display_data"
    }
   ],
   "source": [
    "context.Variables[\"investmentAdvice\"] = investmentAdvice;\n",
    "context.Variables.Display();"
   ]
  },
  {
   "cell_type": "markdown",
   "metadata": {},
   "source": [
    "### 3.2 Explicitly call Chat Completions"
   ]
  },
  {
   "cell_type": "code",
   "execution_count": 39,
   "metadata": {
    "dotnet_interactive": {
     "language": "csharp"
    },
    "polyglot_notebook": {
     "kernelName": "csharp"
    },
    "vscode": {
     "languageId": "polyglot-notebook"
    }
   },
   "outputs": [
    {
     "data": {
      "text/html": [
       "<table><thead><tr><th><i>index</i></th><th>value</th></tr></thead><tbody><tr><td>0</td><td><details class=\"dni-treeview\"><summary><span class=\"dni-code-hint\"><code>Microsoft.SemanticKernel.AI.ChatCompletion.ChatHistory+ChatMessage</code></span></summary><div><table><thead><tr></tr></thead><tbody><tr><td>Role</td><td><details class=\"dni-treeview\"><summary><span class=\"dni-code-hint\"><code>system</code></span></summary><div><table><thead><tr></tr></thead><tbody><tr><td>Label</td><td><div class=\"dni-plaintext\"><pre>system</pre></div></td></tr></tbody></table></div></details></td></tr><tr><td>Content</td><td><div class=\"dni-plaintext\"><pre>&quot;\n",
       "ONLY USE JSON PROPERTIES IN THIS LIST:\n",
       "[JSON PROPERTY LIST]\n",
       "portfolio\n",
       "[END LIST]\n",
       "\n",
       "[CONTENT]\n",
       "[{&quot;symbol&quot;:&quot;MSFT&quot;,&quot;allocation&quot;:0.3},{&quot;symbol&quot;:&quot;ACN&quot;,&quot;allocation&quot;:0.1},{&quot;symbol&quot;:&quot;JPM&quot;,&quot;allocation&quot;:0.3},{&quot;symbol&quot;:&quot;PEP&quot;,&quot;allocation&quot;:0.3}]\n",
       "[END CONTENT]\n",
       "\n",
       "EMIT WELL FORMED JSON ALWAYS.\n",
       "BE BRIEF AND TO THE POINT.\n",
       "&quot;</pre></div></td></tr></tbody></table></div></details></td></tr><tr><td>1</td><td><details class=\"dni-treeview\"><summary><span class=\"dni-code-hint\"><code>Microsoft.SemanticKernel.AI.ChatCompletion.ChatHistory+ChatMessage</code></span></summary><div><table><thead><tr></tr></thead><tbody><tr><td>Role</td><td><details class=\"dni-treeview\"><summary><span class=\"dni-code-hint\"><code>user</code></span></summary><div><table><thead><tr></tr></thead><tbody><tr><td>Label</td><td><div class=\"dni-plaintext\"><pre>user</pre></div></td></tr></tbody></table></div></details></td></tr><tr><td>Content</td><td><div class=\"dni-plaintext\"><pre>&quot;\n",
       "Act as a financial advisor and provide advice based on the given portfolio allocation and user information such as a age, income, and risk.  \n",
       "For someone who is 50 years old, with 150000 as household income, and with a risk tolerance of agressive, what is a ideal advice on the given portfolio allocation?  \n",
       "Your advice should be one of the following outputs: &quot;Buy&quot;, &quot;Sell&quot;, or &quot;Hold&quot; as show in the example below.  \n",
       "Return well-formed JSON with an &quot;gptRecommendation&quot; property containing your recommendation.  \n",
       "Example: {&quot;portfolio&quot;:[{&quot;name&quot;:&quot;Stocks&quot;,&quot;gptRecommendation&quot;:&quot;&quot;},{&quot;name&quot;:&quot;Bonds&quot;,&quot;gptRecommendation&quot;:&quot;&quot;},{&quot;name&quot;:&quot;Cash&quot;,&quot;gptRecommendation&quot;:&quot;&quot;},{&quot;name&quot;:&quot;Home Equity&quot;,&quot;gptRecommendation&quot;:&quot;&quot;}]}  \n",
       "\n",
       "[INFLATION SUMMARY]\n",
       "The annual inflation rate in the United States increased to 3.7% for the 12 months ending in August 2023, according to data from the U.S. Labor Department. This was an acceleration from the 3.2% inflation rate reported for the previous period and was slightly above market forecasts of 3.6%. The Consumer Price Index for the United States was 307.026 for August 2023, with inflation from July 2023 to August 2023 being 0.437%. Despite the rising inflation, the Federal Reserve decided to hold interest rates steady, but indicated the possibility of one more hike before the end of the year. The rise in inflation was considered explainable and did not cause undue concern. However, worries about persistent inflation and potential interest-rate hikes by the Fed contributed to significant losses in the stock market in September 2023, with the S&amp;P 500 falling 5% and the Nasdaq dropping 6%.\n",
       "\n",
       "[END INFLATION SUMMARY]\n",
       "\n",
       "[INVESTMENT ADVICE]\n",
       "Ben Graham&#39;s investment philosophy emphasizes the dangers of projection due to the uncertainty of the future, including unpredictable events like inflation, economic recessions, pandemics, and geopolitical upheavals. He discourages ordinary investors from trying to time the market, considering it a fool&#39;s errand. Instead, Graham advocates for a protection-based approach that focuses on investing in large, conservatively financed companies whose present value, estimated by tangible assets, is significantly below their current stock prices. His book, &quot;The Intelligent Investor,&quot; aims to equip readers with the mindset to avoid the panic of market fluctuations. Graham also distinguishes between two types of investors: defensive investors, who aim to protect their capital, generate decent returns, and minimize frequent decisions, and enterprising investors, who actively manage their portfolios, investing more time in stock selection without necessarily taking on more risk.\n",
       "[END INVESTMENT ADVICE]\n",
       "&quot;</pre></div></td></tr></tbody></table></div></details></td></tr><tr><td>2</td><td><details class=\"dni-treeview\"><summary><span class=\"dni-code-hint\"><code>Microsoft.SemanticKernel.AI.ChatCompletion.ChatHistory+ChatMessage</code></span></summary><div><table><thead><tr></tr></thead><tbody><tr><td>Role</td><td><details class=\"dni-treeview\"><summary><span class=\"dni-code-hint\"><code>assistant</code></span></summary><div><table><thead><tr></tr></thead><tbody><tr><td>Label</td><td><div class=\"dni-plaintext\"><pre>assistant</pre></div></td></tr></tbody></table></div></details></td></tr><tr><td>Content</td><td><div class=\"dni-plaintext\"><pre>{&quot;portfolio&quot;:[{&quot;symbol&quot;:&quot;MSFT&quot;,&quot;gptRecommendation&quot;:&quot;Hold&quot;},{&quot;symbol&quot;:&quot;ACN&quot;,&quot;gptRecommendation&quot;:&quot;Buy&quot;},{&quot;symbol&quot;:&quot;JPM&quot;,&quot;gptRecommendation&quot;:&quot;Hold&quot;},{&quot;symbol&quot;:&quot;PEP&quot;,&quot;gptRecommendation&quot;:&quot;Hold&quot;}]}</pre></div></td></tr></tbody></table></div></details></td></tr></tbody></table><style>\r\n",
       ".dni-code-hint {\r\n",
       "    font-style: italic;\r\n",
       "    overflow: hidden;\r\n",
       "    white-space: nowrap;\r\n",
       "}\r\n",
       ".dni-treeview {\r\n",
       "    white-space: nowrap;\r\n",
       "}\r\n",
       ".dni-treeview td {\r\n",
       "    vertical-align: top;\r\n",
       "    text-align: start;\r\n",
       "}\r\n",
       "details.dni-treeview {\r\n",
       "    padding-left: 1em;\r\n",
       "}\r\n",
       "table td {\r\n",
       "    text-align: start;\r\n",
       "}\r\n",
       "table tr { \r\n",
       "    vertical-align: top; \r\n",
       "    margin: 0em 0px;\r\n",
       "}\r\n",
       "table tr td pre \r\n",
       "{ \r\n",
       "    vertical-align: top !important; \r\n",
       "    margin: 0em 0px !important;\r\n",
       "} \r\n",
       "table th {\r\n",
       "    text-align: start;\r\n",
       "}\r\n",
       "</style>"
      ]
     },
     "metadata": {},
     "output_type": "display_data"
    }
   ],
   "source": [
    "string systemMessage = @\"\"\"\n",
    "ONLY USE JSON PROPERTIES IN THIS LIST:\n",
    "[JSON PROPERTY LIST]\n",
    "portfolio\n",
    "[END LIST]\n",
    "\n",
    "[CONTENT]\n",
    "{{$stocks}}\n",
    "[END CONTENT]\n",
    "\n",
    "EMIT WELL FORMED JSON ALWAYS.\n",
    "BE BRIEF AND TO THE POINT.\n",
    "\"\"\";\n",
    "\n",
    "string userMessage = @\"\"\"\n",
    "Act as a financial advisor and provide advice based on the given portfolio allocation and user information such as a age, income, and risk.  \n",
    "For someone who is {{$age}} years old, with {{$income}} as household income, and with a risk tolerance of {{$riskTolerance}}, what is a ideal advice on the given portfolio allocation?  \n",
    "Your advice should be one of the following outputs: \"\"Buy\"\", \"\"Sell\"\", or \"\"Hold\"\" as show in the example below.  \n",
    "Return well-formed JSON with an \"\"gptRecommendation\"\" property containing your recommendation.  \n",
    "Example: {\"\"portfolio\"\":[{\"\"name\"\":\"\"Stocks\"\",\"\"gptRecommendation\"\":\"\"\"\"},{\"\"name\"\":\"\"Bonds\"\",\"\"gptRecommendation\"\":\"\"\"\"},{\"\"name\"\":\"\"Cash\"\",\"\"gptRecommendation\"\":\"\"\"\"},{\"\"name\"\":\"\"Home Equity\"\",\"\"gptRecommendation\"\":\"\"\"\"}]}  \n",
    "\n",
    "[INFLATION SUMMARY]\n",
    "{{$inflationSummary}}\n",
    "[END INFLATION SUMMARY]\n",
    "\n",
    "[INVESTMENT ADVICE]\n",
    "{{$investmentAdvice}}\n",
    "[END INVESTMENT ADVICE]\n",
    "\"\"\";\n",
    "\n",
    "(await KernelHelper.ProcessAsync(kernel, systemMessage, userMessage, context)).Display();"
   ]
  },
  {
   "cell_type": "markdown",
   "metadata": {},
   "source": [
    "![Memory Orchestration](https://raw.githubusercontent.com/Azure-Samples/miyagi/main/assets/images/sk-memory-orchestration.png)\n"
   ]
  }
 ],
 "metadata": {
  "language_info": {
   "name": "python"
  },
  "orig_nbformat": 4
 },
 "nbformat": 4,
 "nbformat_minor": 2
}
