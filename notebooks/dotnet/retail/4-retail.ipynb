{
 "cells": [
  {
   "cell_type": "markdown",
   "metadata": {},
   "source": [
    "# Retail Examples\n",
    "\n",
    "As a result of having to invest in omnichannel capabilities during the pandemic, the retail industry should be better placed to integrate GAI into existing digital platforms. Such integration could be particularly important as companies look for new ways to \n",
    "differentiate and personalise products, while remaining cost competitive. \n",
    "\n",
    "![Sector deep-dive: Retail and Customer Services](https://raw.githubusercontent.com/rohit-lakhanpal/build-your-own-copilot/main/docs/img/retail-and-customer-services.png)\n",
    "\n",
    "References: \n",
    "- [Australia’s Generative AI opportunity Research paper | TechCouncil of Australia](https://techcouncil.com.au/wp-content/uploads/2023/07/230714-Australias-Gen-AI-Opportunity-Final-report-vF4.pdf).\n",
    "- [Combat financial crime with AI and advanced technology from Microsoft](https://www.microsoft.com/en-us/industry/blog/financial-services/2023/06/05/combat-financial-crime-with-ai-and-advanced-technology-from-microsoft/)\n",
    "\n",
    "|  |  |\n",
    "| -: | :- |\n",
    "| Industry | Retail & Customer Services |\n",
    "| Usecase  | Analysing Customer Services compliance failures |\n",
    "| WHO | .. |\n",
    "| WHAT | (GAI) for .. |\n",
    "| WOW | .. |\n"
   ]
  },
  {
   "cell_type": "markdown",
   "metadata": {},
   "source": [
    "## Basic Setup\n",
    "\n",
    "This section hides away the complexity of working with the Kernel. "
   ]
  },
  {
   "cell_type": "code",
   "execution_count": 1,
   "metadata": {
    "dotnet_interactive": {
     "language": "csharp"
    },
    "polyglot_notebook": {
     "kernelName": "csharp"
    },
    "vscode": {
     "languageId": "polyglot-notebook"
    }
   },
   "outputs": [
    {
     "data": {
      "text/html": [
       "<div><div></div><div></div><div><strong>Installed Packages</strong><ul><li><span>dotenv.net, 3.1.2</span></li><li><span>Microsoft.Extensions.Configuration, 8.0.0-rc.1.23419.4</span></li><li><span>Microsoft.Extensions.Configuration.Binder, 8.0.0-rc.1.23419.4</span></li><li><span>Microsoft.Extensions.Configuration.EnvironmentVariables, 8.0.0-rc.1.23419.4</span></li><li><span>Microsoft.Extensions.Configuration.FileExtensions, 8.0.0-rc.1.23419.4</span></li><li><span>Microsoft.Extensions.Configuration.Json, 8.0.0-rc.1.23419.4</span></li><li><span>Microsoft.SemanticKernel, 0.24.230918.1-preview</span></li><li><span>Microsoft.SemanticKernel.Connectors.Memory.AzureCognitiveSearch, 0.24.230918.1-preview</span></li><li><span>Microsoft.SemanticKernel.Skills.Core, 0.24.230918.1-preview</span></li><li><span>Microsoft.SemanticKernel.Skills.Web, 0.24.230918.1-preview</span></li></ul></div></div>"
      ]
     },
     "metadata": {},
     "output_type": "display_data"
    }
   ],
   "source": [
    "//#r \"nuget: dotenv.net, *-*\"\n",
    "#r \"nuget: dotenv.net, 3.1.2\"\n",
    "//#r \"nuget: Microsoft.SemanticKernel, *-*\"\n",
    "#r \"nuget: Microsoft.SemanticKernel, 0.24.230918.1-preview\"\n",
    "//#r \"nuget: Microsoft.SemanticKernel.Connectors.Memory.AzureCognitiveSearch, *-*\"\n",
    "#r \"nuget: Microsoft.SemanticKernel.Connectors.Memory.AzureCognitiveSearch, 0.24.230918.1-preview\"\n",
    "//#r \"nuget: Microsoft.SemanticKernel.Skills.Core, *-*\"\n",
    "#r \"nuget: Microsoft.SemanticKernel.Skills.Core, 0.24.230918.1-preview\"\n",
    "//#r \"nuget: Microsoft.SemanticKernel.Skills.Web, *-*\"\n",
    "#r \"nuget: Microsoft.SemanticKernel.Skills.Web, 0.24.230918.1-preview\"\n",
    "// Configurations\n",
    "#r \"nuget: Microsoft.Extensions.Configuration, *-*\"\n",
    "#r \"nuget: Microsoft.Extensions.Configuration.FileExtensions, *-*\"\n",
    "#r \"nuget: Microsoft.Extensions.Configuration.Json, *-*\"\n",
    "#r \"nuget: Microsoft.Extensions.Configuration.EnvironmentVariables, *-*\" \n",
    "#r \"nuget: Microsoft.Extensions.Configuration.Binder, *-*\""
   ]
  },
  {
   "cell_type": "code",
   "execution_count": 2,
   "metadata": {
    "dotnet_interactive": {
     "language": "csharp"
    },
    "polyglot_notebook": {
     "kernelName": "csharp"
    },
    "vscode": {
     "languageId": "polyglot-notebook"
    }
   },
   "outputs": [
    {
     "data": {
      "text/html": [
       "<details open=\"open\" class=\"dni-treeview\"><summary><span class=\"dni-code-hint\"><code>Microsoft.SemanticKernel.Kernel</code></span></summary><div><table><thead><tr></tr></thead><tbody><tr><td>LoggerFactory</td><td><details class=\"dni-treeview\"><summary><span class=\"dni-code-hint\"><code>Microsoft.Extensions.Logging.Abstractions.NullLoggerFactory</code></span></summary><div><table><thead><tr></tr></thead><tbody></tbody></table></div></details></td></tr><tr><td>Memory</td><td><details class=\"dni-treeview\"><summary><span class=\"dni-code-hint\"><code>Microsoft.SemanticKernel.Memory.SemanticTextMemory</code></span></summary><div><table><thead><tr></tr></thead><tbody></tbody></table></div></details></td></tr><tr><td>Skills</td><td><details class=\"dni-treeview\"><summary><span class=\"dni-code-hint\"><code>Microsoft.SemanticKernel.SkillDefinition.SkillCollection</code></span></summary><div><table><thead><tr></tr></thead><tbody></tbody></table></div></details></td></tr><tr><td>PromptTemplateEngine</td><td><details class=\"dni-treeview\"><summary><span class=\"dni-code-hint\"><code>Microsoft.SemanticKernel.TemplateEngine.Prompt.PromptTemplateEngine</code></span></summary><div><table><thead><tr></tr></thead><tbody></tbody></table></div></details></td></tr><tr><td>HttpHandlerFactory</td><td><details class=\"dni-treeview\"><summary><span class=\"dni-code-hint\"><code>Microsoft.SemanticKernel.Reliability.Basic.BasicHttpRetryHandlerFactory</code></span></summary><div><table><thead><tr></tr></thead><tbody></tbody></table></div></details></td></tr></tbody></table></div></details><style>\r\n",
       ".dni-code-hint {\r\n",
       "    font-style: italic;\r\n",
       "    overflow: hidden;\r\n",
       "    white-space: nowrap;\r\n",
       "}\r\n",
       ".dni-treeview {\r\n",
       "    white-space: nowrap;\r\n",
       "}\r\n",
       ".dni-treeview td {\r\n",
       "    vertical-align: top;\r\n",
       "    text-align: start;\r\n",
       "}\r\n",
       "details.dni-treeview {\r\n",
       "    padding-left: 1em;\r\n",
       "}\r\n",
       "table td {\r\n",
       "    text-align: start;\r\n",
       "}\r\n",
       "table tr { \r\n",
       "    vertical-align: top; \r\n",
       "    margin: 0em 0px;\r\n",
       "}\r\n",
       "table tr td pre \r\n",
       "{ \r\n",
       "    vertical-align: top !important; \r\n",
       "    margin: 0em 0px !important;\r\n",
       "} \r\n",
       "table th {\r\n",
       "    text-align: start;\r\n",
       "}\r\n",
       "</style>"
      ]
     },
     "metadata": {},
     "output_type": "display_data"
    }
   ],
   "source": [
    "#!import ../config/Setup.cs\n",
    "#!import ../config/Utils.cs\n",
    "#!import ../config/KernelHelper.cs\n",
    "\n",
    "var kernel = Setup.LoadKernel();\n",
    "kernel.Display();"
   ]
  },
  {
   "cell_type": "markdown",
   "metadata": {},
   "source": [
    "## Scenario 1\n",
    "\n",
    "| | |\n",
    "| -: | :- |\n",
    "| Overview | Recommendations based on as-is knowledge. |\n",
    "| Techniques | Role prompting |\n",
    "| Model | GPT 4 Turbo (0613)  |\n",
    "| Weights | TopP:0.7; Temp:0.9  |"
   ]
  },
  {
   "cell_type": "code",
   "execution_count": 5,
   "metadata": {
    "dotnet_interactive": {
     "language": "csharp"
    },
    "polyglot_notebook": {
     "kernelName": "csharp"
    },
    "vscode": {
     "languageId": "polyglot-notebook"
    }
   },
   "outputs": [
    {
     "data": {
      "text/html": [
       "<table><thead><tr><th><i>key</i></th><th>value</th></tr></thead><tbody><tr><td><div class=\"dni-plaintext\"><pre>compliancePolicy</pre></div></td><td><div class=\"dni-plaintext\"><pre>- When directing customers to a branch, agents are responsible for reminding them about having a 100-points of ID requirement.\n",
       "- The agent must inform customers of branch locations (full street address) and opening times when directing customers to a branch.</pre></div></td></tr><tr><td><div class=\"dni-plaintext\"><pre>conversationTranscript</pre></div></td><td><div class=\"dni-plaintext\"><pre>Sarah: Thank you for calling TMB bank, my name is Sarah. How can I help you today?\n",
       "John: Hi Sarah, I&#39;m a TMB customer, and I&#39;ve recently lost my debit card. I&#39;m going to be travelling overseas in 5 days, and I need to get my card re-issued as soon as possible. Can you help me with that?\n",
       "Sarah: I&#39;m sorry to hear that you&#39;ve lost your card, John. I can certainly help you with getting a new card issued. However, I must inform you that our standard card delivery time is between 5 to 7 business days. Since you&#39;re travelling in 5 days, I cannot guarantee that you will receive your card in time.\n",
       "John: Oh, that&#39;s not good. Is there any alternative solution?\n",
       "Sarah: Yes, there is an alternative. Instead of having the card delivered to your home, we can have it sent to a TMB branch near you. The card should be available for pick-up within 2 business days. You can then collect the card in-person, which would ensure you have it before your trip. Would you like to proceed with this option?\n",
       "John: Well, I don&#39;t have much choice, do I? Yes, please arrange for the card to be sent to my local branch. I&#39;ll pick it up there.\n",
       "Sarah: I understand your concerns, John, and I apologize for any inconvenience. I make sure to prioritize your card re-issuance. May I have your preferred branch location for card pick-up?\n",
       "John: My local would be convenient for me.\n",
       "Sarah: Thank you, John. I&#39;ve arranged for your new card to be sent to the your local branch. It should be available for pick-up within 2 business days. In the meantime, l&#39;ve cancelled your lost card to prevent any unauthorized transactions.\n",
       "John: Alright, thank you for your help, Sarah. I&#39;ll head to the branch in a couple of days to pick up my new card.\n",
       "Sarah: You&#39;re welcome, John! If you have any other questions or concerns, please don&#39;t hesitate to reach out. Have a safe and enjoyable trip!</pre></div></td></tr><tr><td><div class=\"dni-plaintext\"><pre>INPUT</pre></div></td><td><div class=\"dni-plaintext\"><pre></pre></div></td></tr></tbody></table><style>\r\n",
       ".dni-code-hint {\r\n",
       "    font-style: italic;\r\n",
       "    overflow: hidden;\r\n",
       "    white-space: nowrap;\r\n",
       "}\r\n",
       ".dni-treeview {\r\n",
       "    white-space: nowrap;\r\n",
       "}\r\n",
       ".dni-treeview td {\r\n",
       "    vertical-align: top;\r\n",
       "    text-align: start;\r\n",
       "}\r\n",
       "details.dni-treeview {\r\n",
       "    padding-left: 1em;\r\n",
       "}\r\n",
       "table td {\r\n",
       "    text-align: start;\r\n",
       "}\r\n",
       "table tr { \r\n",
       "    vertical-align: top; \r\n",
       "    margin: 0em 0px;\r\n",
       "}\r\n",
       "table tr td pre \r\n",
       "{ \r\n",
       "    vertical-align: top !important; \r\n",
       "    margin: 0em 0px !important;\r\n",
       "} \r\n",
       "table th {\r\n",
       "    text-align: start;\r\n",
       "}\r\n",
       "</style>"
      ]
     },
     "metadata": {},
     "output_type": "display_data"
    }
   ],
   "source": [
    "var context = kernel.CreateNewContext();\n",
    "\n",
    "context.Variables[\"conversationTranscript\"] = \"\"\"\n",
    "Sarah: Thank you for calling TMB bank, my name is Sarah. How can I help you today?\n",
    "John: Hi Sarah, I'm a TMB customer, and I've recently lost my debit card. I'm going to be travelling overseas in 5 days, and I need to get my card re-issued as soon as possible. Can you help me with that?\n",
    "Sarah: I'm sorry to hear that you've lost your card, John. I can certainly help you with getting a new card issued. However, I must inform you that our standard card delivery time is between 5 to 7 business days. Since you're travelling in 5 days, I cannot guarantee that you will receive your card in time.\n",
    "John: Oh, that's not good. Is there any alternative solution?\n",
    "Sarah: Yes, there is an alternative. Instead of having the card delivered to your home, we can have it sent to a TMB branch near you. The card should be available for pick-up within 2 business days. You can then collect the card in-person, which would ensure you have it before your trip. Would you like to proceed with this option?\n",
    "John: Well, I don't have much choice, do I? Yes, please arrange for the card to be sent to my local branch. I'll pick it up there.\n",
    "Sarah: I understand your concerns, John, and I apologize for any inconvenience. I make sure to prioritize your card re-issuance. May I have your preferred branch location for card pick-up?\n",
    "John: My local would be convenient for me.\n",
    "Sarah: Thank you, John. I've arranged for your new card to be sent to the your local branch. It should be available for pick-up within 2 business days. In the meantime, l've cancelled your lost card to prevent any unauthorized transactions.\n",
    "John: Alright, thank you for your help, Sarah. I'll head to the branch in a couple of days to pick up my new card.\n",
    "Sarah: You're welcome, John! If you have any other questions or concerns, please don't hesitate to reach out. Have a safe and enjoyable trip!\n",
    "\"\"\";\n",
    "\n",
    "context.Variables[\"compliancePolicy\"] = \"\"\"\n",
    "- When directing customers to a branch, agents are responsible for reminding them about having a 100-points of ID requirement.\n",
    "- The agent must inform customers of branch locations (full street address) and opening times when directing customers to a branch.\n",
    "\"\"\";\n",
    "\n",
    "context.Variables.Display();"
   ]
  },
  {
   "cell_type": "code",
   "execution_count": 7,
   "metadata": {
    "dotnet_interactive": {
     "language": "csharp"
    },
    "polyglot_notebook": {
     "kernelName": "csharp"
    },
    "vscode": {
     "languageId": "polyglot-notebook"
    }
   },
   "outputs": [
    {
     "data": {
      "text/html": [
       "<details open=\"open\" class=\"dni-treeview\"><summary><span class=\"dni-code-hint\"><code>Microsoft.SemanticKernel.AI.ChatCompletion.ChatHistory+ChatMessage</code></span></summary><div><table><thead><tr></tr></thead><tbody><tr><td>Role</td><td><details class=\"dni-treeview\"><summary><span class=\"dni-code-hint\"><code>assistant</code></span></summary><div><table><thead><tr></tr></thead><tbody><tr><td>Label</td><td><div class=\"dni-plaintext\"><pre>assistant</pre></div></td></tr></tbody></table></div></details></td></tr><tr><td>Content</td><td><div class=\"dni-plaintext\"><pre>The conversation transcript shows two compliance failures:\n",
       "\n",
       "1. Sarah failed to remind John about the 100-points of ID requirement when picking up the new card from the branch.\n",
       "\n",
       "2. Sarah did not provide the full street address and opening times of the branch when directing John to the branch.</pre></div></td></tr></tbody></table></div></details><style>\r\n",
       ".dni-code-hint {\r\n",
       "    font-style: italic;\r\n",
       "    overflow: hidden;\r\n",
       "    white-space: nowrap;\r\n",
       "}\r\n",
       ".dni-treeview {\r\n",
       "    white-space: nowrap;\r\n",
       "}\r\n",
       ".dni-treeview td {\r\n",
       "    vertical-align: top;\r\n",
       "    text-align: start;\r\n",
       "}\r\n",
       "details.dni-treeview {\r\n",
       "    padding-left: 1em;\r\n",
       "}\r\n",
       "table td {\r\n",
       "    text-align: start;\r\n",
       "}\r\n",
       "table tr { \r\n",
       "    vertical-align: top; \r\n",
       "    margin: 0em 0px;\r\n",
       "}\r\n",
       "table tr td pre \r\n",
       "{ \r\n",
       "    vertical-align: top !important; \r\n",
       "    margin: 0em 0px !important;\r\n",
       "} \r\n",
       "table th {\r\n",
       "    text-align: start;\r\n",
       "}\r\n",
       "</style>"
      ]
     },
     "metadata": {},
     "output_type": "display_data"
    }
   ],
   "source": [
    "using System.Text.Json;\n",
    "ChatHistory chatHistory;\n",
    "\n",
    "string systemMessage = @\"\"\"\n",
    "You are a compliance engine for the TMB Bank. \n",
    "Users will send you conversation transcripts and you will need to identify compliance failures based on the compliance policy listed below.\n",
    "\n",
    "COMPLIANCE POLICY:\n",
    "{{ $compliancePolicy }}\n",
    "\"\"\";\n",
    "\n",
    "string userMessage = @\"\"\"\n",
    "{{ $conversationTranscript }}\n",
    "\"\"\";\n",
    "\n",
    "(await KernelHelper.ProcessAsync(kernel, systemMessage, userMessage, context)).LastOrDefault().Display();"
   ]
  }
 ],
 "metadata": {
  "language_info": {
   "name": "python"
  },
  "orig_nbformat": 4
 },
 "nbformat": 4,
 "nbformat_minor": 2
}
