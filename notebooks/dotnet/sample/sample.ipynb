{
 "cells": [
  {
   "cell_type": "markdown",
   "metadata": {},
   "source": [
    "# Sample Notebook\n",
    "\n",
    "..."
   ]
  },
  {
   "cell_type": "markdown",
   "metadata": {},
   "source": [
    "## 1. Basic Setup\n",
    "\n",
    "This section hides away the complexity of working with the Kernel. \n",
    "\n",
    "- Get necessary libs\n",
    "- Ensure configurations for the following are set:\n",
    "    - Azure OpenAI or OpenAI\n",
    "    - Azure Search\n",
    "    - Bing Search\n",
    "    - Other Congnitive Services"
   ]
  },
  {
   "cell_type": "markdown",
   "metadata": {},
   "source": [
    "### 1.a. Get necessary Nuget packages\n",
    "\n",
    "Note: I'm after specific versions here instead of the latest versions. The lib is evolving so getting the latest might cause errors (Eg. Skills being moved to Plugins)"
   ]
  },
  {
   "cell_type": "code",
   "execution_count": 24,
   "metadata": {
    "dotnet_interactive": {
     "language": "csharp"
    },
    "polyglot_notebook": {
     "kernelName": "csharp"
    },
    "vscode": {
     "languageId": "polyglot-notebook"
    }
   },
   "outputs": [
    {
     "data": {
      "text/html": [
       "<div><div></div><div></div><div><strong>Installed Packages</strong><ul><li><span>dotenv.net, 3.1.2</span></li><li><span>Microsoft.Extensions.Configuration, 8.0.0-rc.1.23419.4</span></li><li><span>Microsoft.Extensions.Configuration.Binder, 8.0.0-rc.1.23419.4</span></li><li><span>Microsoft.Extensions.Configuration.EnvironmentVariables, 8.0.0-rc.1.23419.4</span></li><li><span>Microsoft.Extensions.Configuration.FileExtensions, 8.0.0-rc.1.23419.4</span></li><li><span>Microsoft.Extensions.Configuration.Json, 8.0.0-rc.1.23419.4</span></li><li><span>Microsoft.SemanticKernel, 0.24.230918.1-preview</span></li><li><span>Microsoft.SemanticKernel.Connectors.Memory.AzureCognitiveSearch, 0.24.230918.1-preview</span></li><li><span>Microsoft.SemanticKernel.Skills.Core, 0.24.230918.1-preview</span></li><li><span>Microsoft.SemanticKernel.Skills.Web, 0.24.230918.1-preview</span></li></ul></div></div>"
      ]
     },
     "metadata": {},
     "output_type": "display_data"
    }
   ],
   "source": [
    "//#r \"nuget: dotenv.net, *-*\"\n",
    "#r \"nuget: dotenv.net, 3.1.2\"\n",
    "\n",
    "//#r \"nuget: Microsoft.SemanticKernel, *-*\"\n",
    "#r \"nuget: Microsoft.SemanticKernel, 0.24.230918.1-preview\"\n",
    "\n",
    "//#r \"nuget: Microsoft.SemanticKernel.Connectors.Memory.AzureCognitiveSearch, *-*\"\n",
    "#r \"nuget: Microsoft.SemanticKernel.Connectors.Memory.AzureCognitiveSearch, 0.24.230918.1-preview\"\n",
    "\n",
    "//#r \"nuget: Microsoft.SemanticKernel.Skills.Core, *-*\"\n",
    "#r \"nuget: Microsoft.SemanticKernel.Skills.Core, 0.24.230918.1-preview\"\n",
    "\n",
    "//#r \"nuget: Microsoft.SemanticKernel.Skills.Web, *-*\"\n",
    "#r \"nuget: Microsoft.SemanticKernel.Skills.Web, 0.24.230918.1-preview\"\n",
    "\n",
    "// Configurations\n",
    "#r \"nuget: Microsoft.Extensions.Configuration, *-*\"\n",
    "#r \"nuget: Microsoft.Extensions.Configuration.FileExtensions, *-*\"\n",
    "#r \"nuget: Microsoft.Extensions.Configuration.Json, *-*\"\n",
    "#r \"nuget: Microsoft.Extensions.Configuration.EnvironmentVariables, *-*\" \n",
    "#r \"nuget: Microsoft.Extensions.Configuration.Binder, *-*\""
   ]
  },
  {
   "cell_type": "markdown",
   "metadata": {},
   "source": [
    "### 1.b. Load the Kernel"
   ]
  },
  {
   "cell_type": "code",
   "execution_count": 25,
   "metadata": {
    "dotnet_interactive": {
     "language": "csharp"
    },
    "polyglot_notebook": {
     "kernelName": "csharp"
    },
    "vscode": {
     "languageId": "polyglot-notebook"
    }
   },
   "outputs": [
    {
     "data": {
      "text/html": [
       "<details open=\"open\" class=\"dni-treeview\"><summary><span class=\"dni-code-hint\"><code>Microsoft.SemanticKernel.Kernel</code></span></summary><div><table><thead><tr></tr></thead><tbody><tr><td>LoggerFactory</td><td><details class=\"dni-treeview\"><summary><span class=\"dni-code-hint\"><code>Microsoft.Extensions.Logging.Abstractions.NullLoggerFactory</code></span></summary><div><table><thead><tr></tr></thead><tbody></tbody></table></div></details></td></tr><tr><td>Memory</td><td><details class=\"dni-treeview\"><summary><span class=\"dni-code-hint\"><code>Microsoft.SemanticKernel.Memory.SemanticTextMemory</code></span></summary><div><table><thead><tr></tr></thead><tbody></tbody></table></div></details></td></tr><tr><td>Skills</td><td><details class=\"dni-treeview\"><summary><span class=\"dni-code-hint\"><code>Microsoft.SemanticKernel.SkillDefinition.SkillCollection</code></span></summary><div><table><thead><tr></tr></thead><tbody></tbody></table></div></details></td></tr><tr><td>PromptTemplateEngine</td><td><details class=\"dni-treeview\"><summary><span class=\"dni-code-hint\"><code>Microsoft.SemanticKernel.TemplateEngine.Prompt.PromptTemplateEngine</code></span></summary><div><table><thead><tr></tr></thead><tbody></tbody></table></div></details></td></tr><tr><td>HttpHandlerFactory</td><td><details class=\"dni-treeview\"><summary><span class=\"dni-code-hint\"><code>Microsoft.SemanticKernel.Reliability.Basic.BasicHttpRetryHandlerFactory</code></span></summary><div><table><thead><tr></tr></thead><tbody></tbody></table></div></details></td></tr></tbody></table></div></details><style>\r\n",
       ".dni-code-hint {\r\n",
       "    font-style: italic;\r\n",
       "    overflow: hidden;\r\n",
       "    white-space: nowrap;\r\n",
       "}\r\n",
       ".dni-treeview {\r\n",
       "    white-space: nowrap;\r\n",
       "}\r\n",
       ".dni-treeview td {\r\n",
       "    vertical-align: top;\r\n",
       "    text-align: start;\r\n",
       "}\r\n",
       "details.dni-treeview {\r\n",
       "    padding-left: 1em;\r\n",
       "}\r\n",
       "table td {\r\n",
       "    text-align: start;\r\n",
       "}\r\n",
       "table tr { \r\n",
       "    vertical-align: top; \r\n",
       "    margin: 0em 0px;\r\n",
       "}\r\n",
       "table tr td pre \r\n",
       "{ \r\n",
       "    vertical-align: top !important; \r\n",
       "    margin: 0em 0px !important;\r\n",
       "} \r\n",
       "table th {\r\n",
       "    text-align: start;\r\n",
       "}\r\n",
       "</style>"
      ]
     },
     "metadata": {},
     "output_type": "display_data"
    }
   ],
   "source": [
    "#!import ../config/Setup.cs\n",
    "#!import ../config/Utils.cs\n",
    "\n",
    "var kernel = Setup.LoadKernel();\n",
    "kernel.Display();"
   ]
  },
  {
   "cell_type": "markdown",
   "metadata": {},
   "source": [
    "## 2. Explore the Kernel"
   ]
  },
  {
   "cell_type": "markdown",
   "metadata": {},
   "source": [
    "### 2.a. Use the out-of-the-box kernel capibilities (a.k.a Skills or Plugins)\n",
    "\n",
    "In this example we use the following capibilities:\n",
    "- Use the `Bing Search` skill/plugin & lookup something from the web.\n",
    "- Use the `Conversation` skill/plugin to \n",
    "    - Summarise findings from the search result.\n",
    "    - Extract key topics\n",
    "    - Extract action items if any\n",
    "- Use the `Web File Download` skill/plugin & download a file"
   ]
  },
  {
   "cell_type": "code",
   "execution_count": 26,
   "metadata": {
    "dotnet_interactive": {
     "language": "csharp"
    },
    "polyglot_notebook": {
     "kernelName": "csharp"
    },
    "vscode": {
     "languageId": "polyglot-notebook"
    }
   },
   "outputs": [
    {
     "name": "stdout",
     "output_type": "stream",
     "text": [
      "The annual inflation rate in the United States increased to 3.7% for the 12\n",
      "months ending in August 2023, according to data from the U.S. Labor Department.\n",
      "This is a rise from the previous period's rate of 3.2%, and is slightly above\n",
      "market forecasts of 3.6%. The Consumer Price Index for All Urban Consumers also\n",
      "increased by 0.6% in August, and rose 3.7% over the last 12 months. The index\n",
      "for all items excluding food and energy increased by 0.3% in August, and was up\n",
      "4.3% over the year. Despite the rise in inflation, consumer expectations for\n",
      "inflation fell in early September to the lowest levels in over two years,\n",
      "indicating growing optimism about the economic outlook. The Federal Reserve\n",
      "responded to the economic conditions with four 75 basis point rate hikes in the\n",
      "second half of the year.\n",
      "\n",
      "{\n",
      "  \"topics\": [\n",
      "    \"Annual inflation rate\",\n",
      "    \"United States\",\n",
      "    \"U.S. Labor Department\",\n",
      "    \"Consumer Price Index\",\n",
      "    \"Urban Consumers\",\n",
      "    \"Food and energy exclusion\",\n",
      "    \"Consumer expectations\",\n",
      "    \"Economic outlook\",\n",
      "    \"Federal Reserve\",\n",
      "    \"Rate hikes\"\n",
      "  ]\n",
      "}\n",
      "{\n",
      "    \"action_items\": []\n",
      "}\n",
      "\n"
     ]
    }
   ],
   "source": [
    "var webQuery = \"What is the inflation rate in the US in September 2023?\";\n",
    "\n",
    "var inflationData = await kernel.Func(\"bing\", \"search\").InvokeAsync(webQuery);\n",
    "//Utils.Print(inflationData.Result);\n",
    "\n",
    "var inflationSummary  = await kernel.Func(\"conversation\", \"SummarizeConversation\").InvokeAsync(inflationData);\n",
    "Utils.Print(inflationSummary.Result);\n",
    "\n",
    "var inflationTopics  = await kernel.Func(\"conversation\", \"GetConversationTopics\").InvokeAsync(inflationData);\n",
    "Console.WriteLine(inflationTopics.Result);\n",
    "\n",
    "var inflationActionItems  = await kernel.Func(\"conversation\", \"GetConversationActionItems\").InvokeAsync(inflationData);\n",
    "Utils.Print(inflationActionItems.Result);"
   ]
  },
  {
   "cell_type": "markdown",
   "metadata": {},
   "source": [
    "### 2.b. Explore memories\n",
    "\n",
    "Semantic Memory allows you to store the meaning of text that come from different data sources, and optionally to store the source text too.\n",
    "\n",
    "These texts can be from the web, e-mail providers, chats, a database, or from your\n",
    "local directory, and are hooked up to the Semantic Kernel through data source connectors.\n",
    "\n",
    "In this example, I store 3 animals - dog, elephant & octopus. We then search for the relevant animal that `has tentacles`."
   ]
  },
  {
   "cell_type": "code",
   "execution_count": 27,
   "metadata": {
    "dotnet_interactive": {
     "language": "csharp"
    },
    "polyglot_notebook": {
     "kernelName": "csharp"
    },
    "vscode": {
     "languageId": "polyglot-notebook"
    }
   },
   "outputs": [
    {
     "name": "stdout",
     "output_type": "stream",
     "text": [
      "Has tentacles? - Octopus\n",
      "\n"
     ]
    }
   ],
   "source": [
    "using System.Linq;\n",
    "\n",
    "var db = \"random-animals\";\n",
    "\n",
    "await kernel.Memory.SaveInformationAsync(\n",
    "    db, id: \"1\", text: \"Dog\");\n",
    "await kernel.Memory.SaveInformationAsync(\n",
    "    db, id: \"2\", text: \"Elephant\");\n",
    "await kernel.Memory.SaveInformationAsync(\n",
    "    db, id: \"3\", text: \"Octopus\");\n",
    "\n",
    "var memorySearch = \"Has tentacles?\";\n",
    "await foreach (var item in kernel.Memory.SearchAsync(\n",
    "    collection: db, query: memorySearch, limit: 1))\n",
    "{\n",
    "    Utils.Print($\"{memorySearch} - {item.Metadata.Text}\");\n",
    "}\n",
    "\n",
    "await kernel.Memory.RemoveAsync(db,\"1\");\n",
    "await kernel.Memory.RemoveAsync(db,\"2\");\n",
    "await kernel.Memory.RemoveAsync(db,\"3\");\n"
   ]
  },
  {
   "cell_type": "markdown",
   "metadata": {},
   "source": [
    "### 2.c. Large text memories\n",
    "\n",
    "When dealing with large corpuses of data you can chunk & store them as memories."
   ]
  },
  {
   "cell_type": "code",
   "execution_count": 28,
   "metadata": {
    "dotnet_interactive": {
     "language": "csharp"
    },
    "polyglot_notebook": {
     "kernelName": "csharp"
    },
    "vscode": {
     "languageId": "polyglot-notebook"
    }
   },
   "outputs": [
    {
     "name": "stdout",
     "output_type": "stream",
     "text": [
      "Chunks: 46\n",
      "Chunk 0 of 46 saved to memory collection intelligent-investor-book\n",
      "Chunk 1 of 46 saved to memory collection intelligent-investor-book\n",
      "Chunk 2 of 46 saved to memory collection intelligent-investor-book\n",
      "Chunk 3 of 46 saved to memory collection intelligent-investor-book\n",
      "Chunk 4 of 46 saved to memory collection intelligent-investor-book\n",
      "Chunk 5 of 46 saved to memory collection intelligent-investor-book\n",
      "Chunk 6 of 46 saved to memory collection intelligent-investor-book\n",
      "Chunk 7 of 46 saved to memory collection intelligent-investor-book\n",
      "Chunk 8 of 46 saved to memory collection intelligent-investor-book\n",
      "Chunk 9 of 46 saved to memory collection intelligent-investor-book\n",
      "Chunk 10 of 46 saved to memory collection intelligent-investor-book\n",
      "Chunk 11 of 46 saved to memory collection intelligent-investor-book\n",
      "Chunk 12 of 46 saved to memory collection intelligent-investor-book\n",
      "Chunk 13 of 46 saved to memory collection intelligent-investor-book\n",
      "Chunk 14 of 46 saved to memory collection intelligent-investor-book\n",
      "Chunk 15 of 46 saved to memory collection intelligent-investor-book\n",
      "Chunk 16 of 46 saved to memory collection intelligent-investor-book\n",
      "Chunk 17 of 46 saved to memory collection intelligent-investor-book\n",
      "Chunk 18 of 46 saved to memory collection intelligent-investor-book\n",
      "Chunk 19 of 46 saved to memory collection intelligent-investor-book\n",
      "Chunk 20 of 46 saved to memory collection intelligent-investor-book\n",
      "Chunk 21 of 46 saved to memory collection intelligent-investor-book\n",
      "Chunk 22 of 46 saved to memory collection intelligent-investor-book\n",
      "Chunk 23 of 46 saved to memory collection intelligent-investor-book\n",
      "Chunk 24 of 46 saved to memory collection intelligent-investor-book\n",
      "Chunk 25 of 46 saved to memory collection intelligent-investor-book\n",
      "Chunk 26 of 46 saved to memory collection intelligent-investor-book\n",
      "Chunk 27 of 46 saved to memory collection intelligent-investor-book\n",
      "Chunk 28 of 46 saved to memory collection intelligent-investor-book\n",
      "Chunk 29 of 46 saved to memory collection intelligent-investor-book\n",
      "Chunk 30 of 46 saved to memory collection intelligent-investor-book\n",
      "Chunk 31 of 46 saved to memory collection intelligent-investor-book\n",
      "Chunk 32 of 46 saved to memory collection intelligent-investor-book\n",
      "Chunk 33 of 46 saved to memory collection intelligent-investor-book\n",
      "Chunk 34 of 46 saved to memory collection intelligent-investor-book\n",
      "Chunk 35 of 46 saved to memory collection intelligent-investor-book\n",
      "Chunk 36 of 46 saved to memory collection intelligent-investor-book\n",
      "Chunk 37 of 46 saved to memory collection intelligent-investor-book\n",
      "Chunk 38 of 46 saved to memory collection intelligent-investor-book\n",
      "Chunk 39 of 46 saved to memory collection intelligent-investor-book\n",
      "Chunk 40 of 46 saved to memory collection intelligent-investor-book\n",
      "Chunk 41 of 46 saved to memory collection intelligent-investor-book\n",
      "Chunk 42 of 46 saved to memory collection intelligent-investor-book\n",
      "Chunk 43 of 46 saved to memory collection intelligent-investor-book\n",
      "Chunk 44 of 46 saved to memory collection intelligent-investor-book\n",
      "Chunk 45 of 46 saved to memory collection intelligent-investor-book\n"
     ]
    }
   ],
   "source": [
    "// Read file & convert it into smaller chunks\n",
    "var chunks = await Utils.GetChunksAsync(\"../../../data/intelligent-investor.txt\");\n",
    "Console.WriteLine($\"Chunks: {chunks.Count()}\");\n",
    "\n",
    "var db = \"intelligent-investor-book\";\n",
    "// Save chunks into memory\n",
    "for (var i = 0; i < chunks.Count(); i++)\n",
    "{\n",
    "    var chunk = chunks[i];        \n",
    "    // await kernel.Memory.SaveInformationAsync(\n",
    "    //     db, // collection name\n",
    "    //     chunk, // text to embed\n",
    "    //     $\"{db}-{i}\", // id\n",
    "    //     $\"Dataset: {db} Chunk: {i}\", // title or description\n",
    "    //     i.ToString() // metadata\n",
    "    // );\n",
    "\n",
    "    await kernel.Memory.SaveReferenceAsync(\n",
    "            collection: db,\n",
    "            externalSourceName: \"intelligent-investor\",\n",
    "            externalId: $\"{db}-{i}\",\n",
    "            description: $\"Dataset: {db} Chunk: {i}\",\n",
    "            text: chunk);\n",
    "\n",
    "    Console.WriteLine($\"Chunk {i} of {chunks.Count} saved to memory collection {db}\");\n",
    "}\n"
   ]
  },
  {
   "cell_type": "markdown",
   "metadata": {},
   "source": [
    "## 3. Your Own Skills or Plugins"
   ]
  },
  {
   "cell_type": "markdown",
   "metadata": {},
   "source": [
    "### 3.1. Simple Plugin with 1 input"
   ]
  },
  {
   "cell_type": "code",
   "execution_count": 29,
   "metadata": {
    "dotnet_interactive": {
     "language": "csharp"
    },
    "polyglot_notebook": {
     "kernelName": "csharp"
    },
    "vscode": {
     "languageId": "polyglot-notebook"
    }
   },
   "outputs": [
    {
     "name": "stdout",
     "output_type": "stream",
     "text": [
      "Why don't chickens use Facebook?\n",
      "\n",
      "Because they already have their own \"pecking\" order!\n"
     ]
    }
   ],
   "source": [
    "string prompt = \"\"\"\n",
    "Tell me a joke about {{$input}}.\n",
    "\"\"\";\n",
    "\n",
    "var promptConfig = new PromptTemplateConfig\n",
    "{\n",
    "    Completion =\n",
    "    {\n",
    "        MaxTokens = 2000,\n",
    "        Temperature = 0.2,\n",
    "        TopP = 0.5,\n",
    "    }\n",
    "};\n",
    "\n",
    "var promptTemplate = new PromptTemplate(\n",
    "    prompt,                        // Prompt template defined in natural language\n",
    "    promptConfig,                  // Prompt configuration\n",
    "    kernel                         // SK instance\n",
    ");\n",
    "\n",
    "var randomPlugin = kernel.RegisterSemanticFunction(\"Random\", \"Joke\", new SemanticFunctionConfig(promptConfig, promptTemplate));\n",
    "\n",
    "var joke = await randomPlugin.InvokeAsync(\"chickens\");\n",
    "\n",
    "Console.WriteLine(joke);"
   ]
  },
  {
   "cell_type": "markdown",
   "metadata": {},
   "source": [
    "### 3.2 Explicitly call Chat Completions"
   ]
  },
  {
   "cell_type": "code",
   "execution_count": 30,
   "metadata": {
    "dotnet_interactive": {
     "language": "csharp"
    },
    "polyglot_notebook": {
     "kernelName": "csharp"
    },
    "vscode": {
     "languageId": "polyglot-notebook"
    }
   },
   "outputs": [
    {
     "data": {
      "text/html": [
       "<table><thead><tr><th><i>index</i></th><th>value</th></tr></thead><tbody><tr><td>0</td><td><details class=\"dni-treeview\"><summary><span class=\"dni-code-hint\"><code>Microsoft.SemanticKernel.AI.ChatCompletion.ChatHistory+ChatMessage</code></span></summary><div><table><thead><tr></tr></thead><tbody><tr><td>Role</td><td><details class=\"dni-treeview\"><summary><span class=\"dni-code-hint\"><code>system</code></span></summary><div><table><thead><tr></tr></thead><tbody><tr><td>Label</td><td><div class=\"dni-plaintext\"><pre>system</pre></div></td></tr></tbody></table></div></details></td></tr><tr><td>Content</td><td><div class=\"dni-plaintext\"><pre>You are an AI assistant. Your name is Jane.</pre></div></td></tr></tbody></table></div></details></td></tr><tr><td>1</td><td><details class=\"dni-treeview\"><summary><span class=\"dni-code-hint\"><code>Microsoft.SemanticKernel.AI.ChatCompletion.ChatHistory+ChatMessage</code></span></summary><div><table><thead><tr></tr></thead><tbody><tr><td>Role</td><td><details class=\"dni-treeview\"><summary><span class=\"dni-code-hint\"><code>user</code></span></summary><div><table><thead><tr></tr></thead><tbody><tr><td>Label</td><td><div class=\"dni-plaintext\"><pre>user</pre></div></td></tr></tbody></table></div></details></td></tr><tr><td>Content</td><td><div class=\"dni-plaintext\"><pre>Hello there, I&#39;m Andy.</pre></div></td></tr></tbody></table></div></details></td></tr></tbody></table><style>\r\n",
       ".dni-code-hint {\r\n",
       "    font-style: italic;\r\n",
       "    overflow: hidden;\r\n",
       "    white-space: nowrap;\r\n",
       "}\r\n",
       ".dni-treeview {\r\n",
       "    white-space: nowrap;\r\n",
       "}\r\n",
       ".dni-treeview td {\r\n",
       "    vertical-align: top;\r\n",
       "    text-align: start;\r\n",
       "}\r\n",
       "details.dni-treeview {\r\n",
       "    padding-left: 1em;\r\n",
       "}\r\n",
       "table td {\r\n",
       "    text-align: start;\r\n",
       "}\r\n",
       "table tr { \r\n",
       "    vertical-align: top; \r\n",
       "    margin: 0em 0px;\r\n",
       "}\r\n",
       "table tr td pre \r\n",
       "{ \r\n",
       "    vertical-align: top !important; \r\n",
       "    margin: 0em 0px !important;\r\n",
       "} \r\n",
       "table th {\r\n",
       "    text-align: start;\r\n",
       "}\r\n",
       "</style>"
      ]
     },
     "metadata": {},
     "output_type": "display_data"
    },
    {
     "data": {
      "text/plain": [
       "Hello Andy, nice to meet you! How can I assist you today?"
      ]
     },
     "metadata": {},
     "output_type": "display_data"
    }
   ],
   "source": [
    "using Microsoft.SemanticKernel.AI.ChatCompletion;\n",
    "using Microsoft.SemanticKernel.TemplateEngine.Prompt;\n",
    "\n",
    "\n",
    "var chatCompletionService = kernel.GetService<IChatCompletion>();\n",
    "var context = kernel.CreateNewContext();\n",
    "var promptRenderer = new PromptTemplateEngine();\n",
    "\n",
    "\n",
    "// 1. Set system message\n",
    "string systemMessage = \"\"\"\n",
    "You are an AI assistant. Your name is {{ $name }}.\n",
    "\"\"\";\n",
    "\n",
    "// 2. Set user message\n",
    "string userMessage = \"\"\"\n",
    "Hello there, I'm Andy.\n",
    "\"\"\";\n",
    "\n",
    "// 3. Set context variables\n",
    "context.Variables[\"name\"] = \"Jane\";\n",
    "\n",
    "// 4. Create new chat history\n",
    "var chatHistory = chatCompletionService.CreateNewChat(await promptRenderer.RenderAsync(systemMessage, context));\n",
    "chatHistory.AddUserMessage(await promptRenderer.RenderAsync(userMessage, context));\n",
    "\n",
    "// 5. Generate response\n",
    "string answer = await chatCompletionService.GenerateMessageAsync(chatHistory, new ChatRequestSettings\n",
    "{\n",
    "    MaxTokens = 200,\n",
    "    Temperature = 0.2,\n",
    "    TopP = 0.5,\n",
    "    StopSequences = new[] { \"\\n\" }\n",
    "});\n",
    "\n",
    "// 6. Display response\n",
    "chatHistory.Display();\n",
    "answer.Display();\n",
    "\n"
   ]
  }
 ],
 "metadata": {
  "language_info": {
   "name": "python"
  },
  "orig_nbformat": 4
 },
 "nbformat": 4,
 "nbformat_minor": 2
}
